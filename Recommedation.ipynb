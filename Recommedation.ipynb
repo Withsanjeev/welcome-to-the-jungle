{
  "nbformat": 4,
  "nbformat_minor": 0,
  "metadata": {
    "colab": {
      "provenance": [],
      "toc_visible": true,
      "collapsed_sections": [
        "ogoL-0exu6ex"
      ]
    },
    "kernelspec": {
      "name": "python3",
      "display_name": "Python 3"
    },
    "language_info": {
      "name": "python"
    }
  },
  "cells": [
    {
      "cell_type": "markdown",
      "metadata": {
        "id": "view-in-github"
      },
      "source": [
        "<a href=\"https://colab.research.google.com/github/Withsanjeev/Recommendation/blob/main/MeroJob.ipynb\" target=\"_parent\"><img src=\"https://colab.research.google.com/assets/colab-badge.svg\" alt=\"Open In Colab\"/></a>"
      ]
    },
    {
      "cell_type": "markdown",
      "source": [
        "# Analysis of combined jobs final"
      ],
      "metadata": {
        "id": "eAFvlvRJus67"
      }
    },
    {
      "cell_type": "markdown",
      "source": [
        "##Importing Necessary Libraries"
      ],
      "metadata": {
        "id": "ogoL-0exu6ex"
      }
    },
    {
      "cell_type": "code",
      "source": [
        "from google.colab import drive"
      ],
      "metadata": {
        "id": "DVn-lI15zsiE"
      },
      "execution_count": 2,
      "outputs": []
    },
    {
      "cell_type": "code",
      "source": [
        "from google.colab import drive\n",
        "drive.mount('/content/drive')"
      ],
      "metadata": {
        "colab": {
          "base_uri": "https://localhost:8080/"
        },
        "id": "q2k1R4SXz-vn",
        "outputId": "7d4b9f6c-d9f8-4d48-e949-493ae7cba2be"
      },
      "execution_count": 3,
      "outputs": [
        {
          "output_type": "stream",
          "name": "stdout",
          "text": [
            "Mounted at /content/drive\n"
          ]
        }
      ]
    },
    {
      "cell_type": "code",
      "execution_count": 4,
      "metadata": {
        "id": "66arfAkXSMyu"
      },
      "outputs": [],
      "source": [
        "import pandas as pd  # Importing pandas library for data manipulation\n",
        "import numpy as np  # Importing numpy library for numerical operations and array handling\n",
        "import plotly.express as px  # Importing plotly express for interactive plotting and visualization\n",
        "from sklearn.preprocessing import LabelEncoder  # Importing LabelEncoder for encoding categorical variables\n",
        "from sklearn.model_selection import train_test_split  # Importing train_test_split for splitting data into training and testing sets\n",
        "from sklearn.ensemble import RandomForestClassifier  # Importing RandomForestClassifier for classification using ensemble method\n",
        "from sklearn.linear_model import LogisticRegression  # Importing LogisticRegression for logistic regression classification\n",
        "from sklearn.neighbors import KNeighborsClassifier  # Importing KNeighborsClassifier for K-nearest neighbors classification\n",
        "from sklearn.metrics import accuracy_score, classification_report, confusion_matrix  # Importing metrics for evaluating classification models."
      ]
    },
    {
      "cell_type": "code",
      "source": [
        "data = pd.read_csv('/content/drive/MyDrive/Combined_Jobs_Final.csv.zip')"
      ],
      "metadata": {
        "id": "BpNScMJv0RwV"
      },
      "execution_count": 5,
      "outputs": []
    },
    {
      "cell_type": "code",
      "source": [
        "url = '/content/drive/MyDrive/Combined_Jobs_Final.csv.zip'\n",
        "df = pd.read_csv(url)\n"
      ],
      "metadata": {
        "id": "agi2a1nq0maM"
      },
      "execution_count": 6,
      "outputs": []
    },
    {
      "cell_type": "markdown",
      "source": [
        "##Data Exploration"
      ],
      "metadata": {
        "id": "aiIkaqMG06Z9"
      }
    },
    {
      "cell_type": "code",
      "source": [
        "df.head(3)"
      ],
      "metadata": {
        "colab": {
          "base_uri": "https://localhost:8080/",
          "height": 418
        },
        "id": "LQu1IVhc0_qc",
        "outputId": "16abaa18-cbac-4f50-fa5f-5086b064da6b"
      },
      "execution_count": 7,
      "outputs": [
        {
          "output_type": "execute_result",
          "data": {
            "text/plain": [
              "   Job.ID  Provider Status                                               Slug  \\\n",
              "0     111         1   open                    palo-alto-ca-tacolicious-server   \n",
              "1     113         1   open    san-francisco-ca-claude-lane-kitchen-staff-chef   \n",
              "2     117         1   open  san-francisco-ca-machka-restaurants-corp-barte...   \n",
              "\n",
              "                                  Title            Position  \\\n",
              "0                  Server @ Tacolicious              Server   \n",
              "1      Kitchen Staff/Chef @ Claude Lane  Kitchen Staff/Chef   \n",
              "2  Bartender @ Machka Restaurants Corp.           Bartender   \n",
              "\n",
              "                    Company           City  State.Name State.Code  ...  \\\n",
              "0               Tacolicious      Palo Alto  California         CA  ...   \n",
              "1               Claude Lane  San Francisco  California         CA  ...   \n",
              "2  Machka Restaurants Corp.  San Francisco  California         CA  ...   \n",
              "\n",
              "             Industry                                    Job.Description  \\\n",
              "0  Food and Beverages  Tacolicious' first Palo Alto store just opened...   \n",
              "1  Food and Beverages   \\r\\n\\r\\nNew French Brasserie in S.F. Financia...   \n",
              "2  Food and Beverages  We are a popular Mediterranean wine bar and re...   \n",
              "\n",
              "   Requirements Salary Listing.Start  Listing.End  Employment.Type  \\\n",
              "0           NaN    8.0           NaN          NaN        Part-Time   \n",
              "1           NaN    0.0           NaN          NaN        Part-Time   \n",
              "2           NaN   11.0           NaN          NaN        Part-Time   \n",
              "\n",
              "  Education.Required               Created.At               Updated.At  \n",
              "0                NaN  2013-03-12 02:08:28 UTC  2014-08-16 15:35:36 UTC  \n",
              "1                NaN  2013-04-12 08:36:36 UTC  2014-08-16 15:35:36 UTC  \n",
              "2                NaN  2013-07-16 09:34:10 UTC  2014-08-16 15:35:37 UTC  \n",
              "\n",
              "[3 rows x 23 columns]"
            ],
            "text/html": [
              "\n",
              "  <div id=\"df-3964a9ca-cecc-447e-b189-7fa8c4c39886\" class=\"colab-df-container\">\n",
              "    <div>\n",
              "<style scoped>\n",
              "    .dataframe tbody tr th:only-of-type {\n",
              "        vertical-align: middle;\n",
              "    }\n",
              "\n",
              "    .dataframe tbody tr th {\n",
              "        vertical-align: top;\n",
              "    }\n",
              "\n",
              "    .dataframe thead th {\n",
              "        text-align: right;\n",
              "    }\n",
              "</style>\n",
              "<table border=\"1\" class=\"dataframe\">\n",
              "  <thead>\n",
              "    <tr style=\"text-align: right;\">\n",
              "      <th></th>\n",
              "      <th>Job.ID</th>\n",
              "      <th>Provider</th>\n",
              "      <th>Status</th>\n",
              "      <th>Slug</th>\n",
              "      <th>Title</th>\n",
              "      <th>Position</th>\n",
              "      <th>Company</th>\n",
              "      <th>City</th>\n",
              "      <th>State.Name</th>\n",
              "      <th>State.Code</th>\n",
              "      <th>...</th>\n",
              "      <th>Industry</th>\n",
              "      <th>Job.Description</th>\n",
              "      <th>Requirements</th>\n",
              "      <th>Salary</th>\n",
              "      <th>Listing.Start</th>\n",
              "      <th>Listing.End</th>\n",
              "      <th>Employment.Type</th>\n",
              "      <th>Education.Required</th>\n",
              "      <th>Created.At</th>\n",
              "      <th>Updated.At</th>\n",
              "    </tr>\n",
              "  </thead>\n",
              "  <tbody>\n",
              "    <tr>\n",
              "      <th>0</th>\n",
              "      <td>111</td>\n",
              "      <td>1</td>\n",
              "      <td>open</td>\n",
              "      <td>palo-alto-ca-tacolicious-server</td>\n",
              "      <td>Server @ Tacolicious</td>\n",
              "      <td>Server</td>\n",
              "      <td>Tacolicious</td>\n",
              "      <td>Palo Alto</td>\n",
              "      <td>California</td>\n",
              "      <td>CA</td>\n",
              "      <td>...</td>\n",
              "      <td>Food and Beverages</td>\n",
              "      <td>Tacolicious' first Palo Alto store just opened...</td>\n",
              "      <td>NaN</td>\n",
              "      <td>8.0</td>\n",
              "      <td>NaN</td>\n",
              "      <td>NaN</td>\n",
              "      <td>Part-Time</td>\n",
              "      <td>NaN</td>\n",
              "      <td>2013-03-12 02:08:28 UTC</td>\n",
              "      <td>2014-08-16 15:35:36 UTC</td>\n",
              "    </tr>\n",
              "    <tr>\n",
              "      <th>1</th>\n",
              "      <td>113</td>\n",
              "      <td>1</td>\n",
              "      <td>open</td>\n",
              "      <td>san-francisco-ca-claude-lane-kitchen-staff-chef</td>\n",
              "      <td>Kitchen Staff/Chef @ Claude Lane</td>\n",
              "      <td>Kitchen Staff/Chef</td>\n",
              "      <td>Claude Lane</td>\n",
              "      <td>San Francisco</td>\n",
              "      <td>California</td>\n",
              "      <td>CA</td>\n",
              "      <td>...</td>\n",
              "      <td>Food and Beverages</td>\n",
              "      <td>\\r\\n\\r\\nNew French Brasserie in S.F. Financia...</td>\n",
              "      <td>NaN</td>\n",
              "      <td>0.0</td>\n",
              "      <td>NaN</td>\n",
              "      <td>NaN</td>\n",
              "      <td>Part-Time</td>\n",
              "      <td>NaN</td>\n",
              "      <td>2013-04-12 08:36:36 UTC</td>\n",
              "      <td>2014-08-16 15:35:36 UTC</td>\n",
              "    </tr>\n",
              "    <tr>\n",
              "      <th>2</th>\n",
              "      <td>117</td>\n",
              "      <td>1</td>\n",
              "      <td>open</td>\n",
              "      <td>san-francisco-ca-machka-restaurants-corp-barte...</td>\n",
              "      <td>Bartender @ Machka Restaurants Corp.</td>\n",
              "      <td>Bartender</td>\n",
              "      <td>Machka Restaurants Corp.</td>\n",
              "      <td>San Francisco</td>\n",
              "      <td>California</td>\n",
              "      <td>CA</td>\n",
              "      <td>...</td>\n",
              "      <td>Food and Beverages</td>\n",
              "      <td>We are a popular Mediterranean wine bar and re...</td>\n",
              "      <td>NaN</td>\n",
              "      <td>11.0</td>\n",
              "      <td>NaN</td>\n",
              "      <td>NaN</td>\n",
              "      <td>Part-Time</td>\n",
              "      <td>NaN</td>\n",
              "      <td>2013-07-16 09:34:10 UTC</td>\n",
              "      <td>2014-08-16 15:35:37 UTC</td>\n",
              "    </tr>\n",
              "  </tbody>\n",
              "</table>\n",
              "<p>3 rows × 23 columns</p>\n",
              "</div>\n",
              "    <div class=\"colab-df-buttons\">\n",
              "\n",
              "  <div class=\"colab-df-container\">\n",
              "    <button class=\"colab-df-convert\" onclick=\"convertToInteractive('df-3964a9ca-cecc-447e-b189-7fa8c4c39886')\"\n",
              "            title=\"Convert this dataframe to an interactive table.\"\n",
              "            style=\"display:none;\">\n",
              "\n",
              "  <svg xmlns=\"http://www.w3.org/2000/svg\" height=\"24px\" viewBox=\"0 -960 960 960\">\n",
              "    <path d=\"M120-120v-720h720v720H120Zm60-500h600v-160H180v160Zm220 220h160v-160H400v160Zm0 220h160v-160H400v160ZM180-400h160v-160H180v160Zm440 0h160v-160H620v160ZM180-180h160v-160H180v160Zm440 0h160v-160H620v160Z\"/>\n",
              "  </svg>\n",
              "    </button>\n",
              "\n",
              "  <style>\n",
              "    .colab-df-container {\n",
              "      display:flex;\n",
              "      gap: 12px;\n",
              "    }\n",
              "\n",
              "    .colab-df-convert {\n",
              "      background-color: #E8F0FE;\n",
              "      border: none;\n",
              "      border-radius: 50%;\n",
              "      cursor: pointer;\n",
              "      display: none;\n",
              "      fill: #1967D2;\n",
              "      height: 32px;\n",
              "      padding: 0 0 0 0;\n",
              "      width: 32px;\n",
              "    }\n",
              "\n",
              "    .colab-df-convert:hover {\n",
              "      background-color: #E2EBFA;\n",
              "      box-shadow: 0px 1px 2px rgba(60, 64, 67, 0.3), 0px 1px 3px 1px rgba(60, 64, 67, 0.15);\n",
              "      fill: #174EA6;\n",
              "    }\n",
              "\n",
              "    .colab-df-buttons div {\n",
              "      margin-bottom: 4px;\n",
              "    }\n",
              "\n",
              "    [theme=dark] .colab-df-convert {\n",
              "      background-color: #3B4455;\n",
              "      fill: #D2E3FC;\n",
              "    }\n",
              "\n",
              "    [theme=dark] .colab-df-convert:hover {\n",
              "      background-color: #434B5C;\n",
              "      box-shadow: 0px 1px 3px 1px rgba(0, 0, 0, 0.15);\n",
              "      filter: drop-shadow(0px 1px 2px rgba(0, 0, 0, 0.3));\n",
              "      fill: #FFFFFF;\n",
              "    }\n",
              "  </style>\n",
              "\n",
              "    <script>\n",
              "      const buttonEl =\n",
              "        document.querySelector('#df-3964a9ca-cecc-447e-b189-7fa8c4c39886 button.colab-df-convert');\n",
              "      buttonEl.style.display =\n",
              "        google.colab.kernel.accessAllowed ? 'block' : 'none';\n",
              "\n",
              "      async function convertToInteractive(key) {\n",
              "        const element = document.querySelector('#df-3964a9ca-cecc-447e-b189-7fa8c4c39886');\n",
              "        const dataTable =\n",
              "          await google.colab.kernel.invokeFunction('convertToInteractive',\n",
              "                                                    [key], {});\n",
              "        if (!dataTable) return;\n",
              "\n",
              "        const docLinkHtml = 'Like what you see? Visit the ' +\n",
              "          '<a target=\"_blank\" href=https://colab.research.google.com/notebooks/data_table.ipynb>data table notebook</a>'\n",
              "          + ' to learn more about interactive tables.';\n",
              "        element.innerHTML = '';\n",
              "        dataTable['output_type'] = 'display_data';\n",
              "        await google.colab.output.renderOutput(dataTable, element);\n",
              "        const docLink = document.createElement('div');\n",
              "        docLink.innerHTML = docLinkHtml;\n",
              "        element.appendChild(docLink);\n",
              "      }\n",
              "    </script>\n",
              "  </div>\n",
              "\n",
              "\n",
              "<div id=\"df-17ac14f1-dea7-4103-b894-ebd553fd536d\">\n",
              "  <button class=\"colab-df-quickchart\" onclick=\"quickchart('df-17ac14f1-dea7-4103-b894-ebd553fd536d')\"\n",
              "            title=\"Suggest charts\"\n",
              "            style=\"display:none;\">\n",
              "\n",
              "<svg xmlns=\"http://www.w3.org/2000/svg\" height=\"24px\"viewBox=\"0 0 24 24\"\n",
              "     width=\"24px\">\n",
              "    <g>\n",
              "        <path d=\"M19 3H5c-1.1 0-2 .9-2 2v14c0 1.1.9 2 2 2h14c1.1 0 2-.9 2-2V5c0-1.1-.9-2-2-2zM9 17H7v-7h2v7zm4 0h-2V7h2v10zm4 0h-2v-4h2v4z\"/>\n",
              "    </g>\n",
              "</svg>\n",
              "  </button>\n",
              "\n",
              "<style>\n",
              "  .colab-df-quickchart {\n",
              "      --bg-color: #E8F0FE;\n",
              "      --fill-color: #1967D2;\n",
              "      --hover-bg-color: #E2EBFA;\n",
              "      --hover-fill-color: #174EA6;\n",
              "      --disabled-fill-color: #AAA;\n",
              "      --disabled-bg-color: #DDD;\n",
              "  }\n",
              "\n",
              "  [theme=dark] .colab-df-quickchart {\n",
              "      --bg-color: #3B4455;\n",
              "      --fill-color: #D2E3FC;\n",
              "      --hover-bg-color: #434B5C;\n",
              "      --hover-fill-color: #FFFFFF;\n",
              "      --disabled-bg-color: #3B4455;\n",
              "      --disabled-fill-color: #666;\n",
              "  }\n",
              "\n",
              "  .colab-df-quickchart {\n",
              "    background-color: var(--bg-color);\n",
              "    border: none;\n",
              "    border-radius: 50%;\n",
              "    cursor: pointer;\n",
              "    display: none;\n",
              "    fill: var(--fill-color);\n",
              "    height: 32px;\n",
              "    padding: 0;\n",
              "    width: 32px;\n",
              "  }\n",
              "\n",
              "  .colab-df-quickchart:hover {\n",
              "    background-color: var(--hover-bg-color);\n",
              "    box-shadow: 0 1px 2px rgba(60, 64, 67, 0.3), 0 1px 3px 1px rgba(60, 64, 67, 0.15);\n",
              "    fill: var(--button-hover-fill-color);\n",
              "  }\n",
              "\n",
              "  .colab-df-quickchart-complete:disabled,\n",
              "  .colab-df-quickchart-complete:disabled:hover {\n",
              "    background-color: var(--disabled-bg-color);\n",
              "    fill: var(--disabled-fill-color);\n",
              "    box-shadow: none;\n",
              "  }\n",
              "\n",
              "  .colab-df-spinner {\n",
              "    border: 2px solid var(--fill-color);\n",
              "    border-color: transparent;\n",
              "    border-bottom-color: var(--fill-color);\n",
              "    animation:\n",
              "      spin 1s steps(1) infinite;\n",
              "  }\n",
              "\n",
              "  @keyframes spin {\n",
              "    0% {\n",
              "      border-color: transparent;\n",
              "      border-bottom-color: var(--fill-color);\n",
              "      border-left-color: var(--fill-color);\n",
              "    }\n",
              "    20% {\n",
              "      border-color: transparent;\n",
              "      border-left-color: var(--fill-color);\n",
              "      border-top-color: var(--fill-color);\n",
              "    }\n",
              "    30% {\n",
              "      border-color: transparent;\n",
              "      border-left-color: var(--fill-color);\n",
              "      border-top-color: var(--fill-color);\n",
              "      border-right-color: var(--fill-color);\n",
              "    }\n",
              "    40% {\n",
              "      border-color: transparent;\n",
              "      border-right-color: var(--fill-color);\n",
              "      border-top-color: var(--fill-color);\n",
              "    }\n",
              "    60% {\n",
              "      border-color: transparent;\n",
              "      border-right-color: var(--fill-color);\n",
              "    }\n",
              "    80% {\n",
              "      border-color: transparent;\n",
              "      border-right-color: var(--fill-color);\n",
              "      border-bottom-color: var(--fill-color);\n",
              "    }\n",
              "    90% {\n",
              "      border-color: transparent;\n",
              "      border-bottom-color: var(--fill-color);\n",
              "    }\n",
              "  }\n",
              "</style>\n",
              "\n",
              "  <script>\n",
              "    async function quickchart(key) {\n",
              "      const quickchartButtonEl =\n",
              "        document.querySelector('#' + key + ' button');\n",
              "      quickchartButtonEl.disabled = true;  // To prevent multiple clicks.\n",
              "      quickchartButtonEl.classList.add('colab-df-spinner');\n",
              "      try {\n",
              "        const charts = await google.colab.kernel.invokeFunction(\n",
              "            'suggestCharts', [key], {});\n",
              "      } catch (error) {\n",
              "        console.error('Error during call to suggestCharts:', error);\n",
              "      }\n",
              "      quickchartButtonEl.classList.remove('colab-df-spinner');\n",
              "      quickchartButtonEl.classList.add('colab-df-quickchart-complete');\n",
              "    }\n",
              "    (() => {\n",
              "      let quickchartButtonEl =\n",
              "        document.querySelector('#df-17ac14f1-dea7-4103-b894-ebd553fd536d button');\n",
              "      quickchartButtonEl.style.display =\n",
              "        google.colab.kernel.accessAllowed ? 'block' : 'none';\n",
              "    })();\n",
              "  </script>\n",
              "</div>\n",
              "\n",
              "    </div>\n",
              "  </div>\n"
            ],
            "application/vnd.google.colaboratory.intrinsic+json": {
              "type": "dataframe",
              "variable_name": "df"
            }
          },
          "metadata": {},
          "execution_count": 7
        }
      ]
    },
    {
      "cell_type": "code",
      "source": [
        "df.tail(3)"
      ],
      "metadata": {
        "colab": {
          "base_uri": "https://localhost:8080/",
          "height": 366
        },
        "id": "AWunFqgQ1HQb",
        "outputId": "303251df-e3be-4542-8e54-bb44f0273941"
      },
      "execution_count": 8,
      "outputs": [
        {
          "output_type": "execute_result",
          "data": {
            "text/plain": [
              "       Job.ID  Provider Status  \\\n",
              "84087      84         1   open   \n",
              "84088      88         1   open   \n",
              "84089      92         1   open   \n",
              "\n",
              "                                                    Slug  \\\n",
              "84087                san-francisco-ca-onigilly-driver-84   \n",
              "84088  san-francisco-ca-machka-restaurants-corp-line-...   \n",
              "84089               san-jose-ca-kazoo-restaurant-cashier   \n",
              "\n",
              "                                      Title   Position  \\\n",
              "84087                     Driver @ Onigilly     Driver   \n",
              "84088  Line Cook @ Machka Restaurants Corp.  Line Cook   \n",
              "84089            Cashier @ Kazoo Restaurant    Cashier   \n",
              "\n",
              "                        Company           City  State.Name State.Code  ...  \\\n",
              "84087                  Onigilly  San Francisco  California         CA  ...   \n",
              "84088  Machka Restaurants Corp.  San Francisco  California         CA  ...   \n",
              "84089          Kazoo Restaurant       San Jose  California         CA  ...   \n",
              "\n",
              "                 Industry                                    Job.Description  \\\n",
              "84087  Food and Beverages  ONIGILLY (Japanese rice ball wraps) seeks outg...   \n",
              "84088  Food and Beverages  We are a popular Mediterranean restaurant in F...   \n",
              "84089  Food and Beverages   We are looking for a cashier! \\r\\n\\r\\n ● Take...   \n",
              "\n",
              "       Requirements Salary Listing.Start  Listing.End  Employment.Type  \\\n",
              "84087           NaN   11.0           NaN          NaN        Part-Time   \n",
              "84088           NaN   13.0           NaN          NaN        Part-Time   \n",
              "84089           NaN   10.0           NaN          NaN        Part-Time   \n",
              "\n",
              "      Education.Required               Created.At               Updated.At  \n",
              "84087                NaN  2013-03-12 01:47:13 UTC  2014-08-16 15:35:27 UTC  \n",
              "84088                NaN  2013-07-16 08:55:22 UTC  2014-08-16 15:35:28 UTC  \n",
              "84089                NaN  2013-03-27 09:35:04 UTC  2014-08-16 15:35:30 UTC  \n",
              "\n",
              "[3 rows x 23 columns]"
            ],
            "text/html": [
              "\n",
              "  <div id=\"df-8c911477-1d40-4671-b23c-ac7e171015ce\" class=\"colab-df-container\">\n",
              "    <div>\n",
              "<style scoped>\n",
              "    .dataframe tbody tr th:only-of-type {\n",
              "        vertical-align: middle;\n",
              "    }\n",
              "\n",
              "    .dataframe tbody tr th {\n",
              "        vertical-align: top;\n",
              "    }\n",
              "\n",
              "    .dataframe thead th {\n",
              "        text-align: right;\n",
              "    }\n",
              "</style>\n",
              "<table border=\"1\" class=\"dataframe\">\n",
              "  <thead>\n",
              "    <tr style=\"text-align: right;\">\n",
              "      <th></th>\n",
              "      <th>Job.ID</th>\n",
              "      <th>Provider</th>\n",
              "      <th>Status</th>\n",
              "      <th>Slug</th>\n",
              "      <th>Title</th>\n",
              "      <th>Position</th>\n",
              "      <th>Company</th>\n",
              "      <th>City</th>\n",
              "      <th>State.Name</th>\n",
              "      <th>State.Code</th>\n",
              "      <th>...</th>\n",
              "      <th>Industry</th>\n",
              "      <th>Job.Description</th>\n",
              "      <th>Requirements</th>\n",
              "      <th>Salary</th>\n",
              "      <th>Listing.Start</th>\n",
              "      <th>Listing.End</th>\n",
              "      <th>Employment.Type</th>\n",
              "      <th>Education.Required</th>\n",
              "      <th>Created.At</th>\n",
              "      <th>Updated.At</th>\n",
              "    </tr>\n",
              "  </thead>\n",
              "  <tbody>\n",
              "    <tr>\n",
              "      <th>84087</th>\n",
              "      <td>84</td>\n",
              "      <td>1</td>\n",
              "      <td>open</td>\n",
              "      <td>san-francisco-ca-onigilly-driver-84</td>\n",
              "      <td>Driver @ Onigilly</td>\n",
              "      <td>Driver</td>\n",
              "      <td>Onigilly</td>\n",
              "      <td>San Francisco</td>\n",
              "      <td>California</td>\n",
              "      <td>CA</td>\n",
              "      <td>...</td>\n",
              "      <td>Food and Beverages</td>\n",
              "      <td>ONIGILLY (Japanese rice ball wraps) seeks outg...</td>\n",
              "      <td>NaN</td>\n",
              "      <td>11.0</td>\n",
              "      <td>NaN</td>\n",
              "      <td>NaN</td>\n",
              "      <td>Part-Time</td>\n",
              "      <td>NaN</td>\n",
              "      <td>2013-03-12 01:47:13 UTC</td>\n",
              "      <td>2014-08-16 15:35:27 UTC</td>\n",
              "    </tr>\n",
              "    <tr>\n",
              "      <th>84088</th>\n",
              "      <td>88</td>\n",
              "      <td>1</td>\n",
              "      <td>open</td>\n",
              "      <td>san-francisco-ca-machka-restaurants-corp-line-...</td>\n",
              "      <td>Line Cook @ Machka Restaurants Corp.</td>\n",
              "      <td>Line Cook</td>\n",
              "      <td>Machka Restaurants Corp.</td>\n",
              "      <td>San Francisco</td>\n",
              "      <td>California</td>\n",
              "      <td>CA</td>\n",
              "      <td>...</td>\n",
              "      <td>Food and Beverages</td>\n",
              "      <td>We are a popular Mediterranean restaurant in F...</td>\n",
              "      <td>NaN</td>\n",
              "      <td>13.0</td>\n",
              "      <td>NaN</td>\n",
              "      <td>NaN</td>\n",
              "      <td>Part-Time</td>\n",
              "      <td>NaN</td>\n",
              "      <td>2013-07-16 08:55:22 UTC</td>\n",
              "      <td>2014-08-16 15:35:28 UTC</td>\n",
              "    </tr>\n",
              "    <tr>\n",
              "      <th>84089</th>\n",
              "      <td>92</td>\n",
              "      <td>1</td>\n",
              "      <td>open</td>\n",
              "      <td>san-jose-ca-kazoo-restaurant-cashier</td>\n",
              "      <td>Cashier @ Kazoo Restaurant</td>\n",
              "      <td>Cashier</td>\n",
              "      <td>Kazoo Restaurant</td>\n",
              "      <td>San Jose</td>\n",
              "      <td>California</td>\n",
              "      <td>CA</td>\n",
              "      <td>...</td>\n",
              "      <td>Food and Beverages</td>\n",
              "      <td>We are looking for a cashier! \\r\\n\\r\\n ● Take...</td>\n",
              "      <td>NaN</td>\n",
              "      <td>10.0</td>\n",
              "      <td>NaN</td>\n",
              "      <td>NaN</td>\n",
              "      <td>Part-Time</td>\n",
              "      <td>NaN</td>\n",
              "      <td>2013-03-27 09:35:04 UTC</td>\n",
              "      <td>2014-08-16 15:35:30 UTC</td>\n",
              "    </tr>\n",
              "  </tbody>\n",
              "</table>\n",
              "<p>3 rows × 23 columns</p>\n",
              "</div>\n",
              "    <div class=\"colab-df-buttons\">\n",
              "\n",
              "  <div class=\"colab-df-container\">\n",
              "    <button class=\"colab-df-convert\" onclick=\"convertToInteractive('df-8c911477-1d40-4671-b23c-ac7e171015ce')\"\n",
              "            title=\"Convert this dataframe to an interactive table.\"\n",
              "            style=\"display:none;\">\n",
              "\n",
              "  <svg xmlns=\"http://www.w3.org/2000/svg\" height=\"24px\" viewBox=\"0 -960 960 960\">\n",
              "    <path d=\"M120-120v-720h720v720H120Zm60-500h600v-160H180v160Zm220 220h160v-160H400v160Zm0 220h160v-160H400v160ZM180-400h160v-160H180v160Zm440 0h160v-160H620v160ZM180-180h160v-160H180v160Zm440 0h160v-160H620v160Z\"/>\n",
              "  </svg>\n",
              "    </button>\n",
              "\n",
              "  <style>\n",
              "    .colab-df-container {\n",
              "      display:flex;\n",
              "      gap: 12px;\n",
              "    }\n",
              "\n",
              "    .colab-df-convert {\n",
              "      background-color: #E8F0FE;\n",
              "      border: none;\n",
              "      border-radius: 50%;\n",
              "      cursor: pointer;\n",
              "      display: none;\n",
              "      fill: #1967D2;\n",
              "      height: 32px;\n",
              "      padding: 0 0 0 0;\n",
              "      width: 32px;\n",
              "    }\n",
              "\n",
              "    .colab-df-convert:hover {\n",
              "      background-color: #E2EBFA;\n",
              "      box-shadow: 0px 1px 2px rgba(60, 64, 67, 0.3), 0px 1px 3px 1px rgba(60, 64, 67, 0.15);\n",
              "      fill: #174EA6;\n",
              "    }\n",
              "\n",
              "    .colab-df-buttons div {\n",
              "      margin-bottom: 4px;\n",
              "    }\n",
              "\n",
              "    [theme=dark] .colab-df-convert {\n",
              "      background-color: #3B4455;\n",
              "      fill: #D2E3FC;\n",
              "    }\n",
              "\n",
              "    [theme=dark] .colab-df-convert:hover {\n",
              "      background-color: #434B5C;\n",
              "      box-shadow: 0px 1px 3px 1px rgba(0, 0, 0, 0.15);\n",
              "      filter: drop-shadow(0px 1px 2px rgba(0, 0, 0, 0.3));\n",
              "      fill: #FFFFFF;\n",
              "    }\n",
              "  </style>\n",
              "\n",
              "    <script>\n",
              "      const buttonEl =\n",
              "        document.querySelector('#df-8c911477-1d40-4671-b23c-ac7e171015ce button.colab-df-convert');\n",
              "      buttonEl.style.display =\n",
              "        google.colab.kernel.accessAllowed ? 'block' : 'none';\n",
              "\n",
              "      async function convertToInteractive(key) {\n",
              "        const element = document.querySelector('#df-8c911477-1d40-4671-b23c-ac7e171015ce');\n",
              "        const dataTable =\n",
              "          await google.colab.kernel.invokeFunction('convertToInteractive',\n",
              "                                                    [key], {});\n",
              "        if (!dataTable) return;\n",
              "\n",
              "        const docLinkHtml = 'Like what you see? Visit the ' +\n",
              "          '<a target=\"_blank\" href=https://colab.research.google.com/notebooks/data_table.ipynb>data table notebook</a>'\n",
              "          + ' to learn more about interactive tables.';\n",
              "        element.innerHTML = '';\n",
              "        dataTable['output_type'] = 'display_data';\n",
              "        await google.colab.output.renderOutput(dataTable, element);\n",
              "        const docLink = document.createElement('div');\n",
              "        docLink.innerHTML = docLinkHtml;\n",
              "        element.appendChild(docLink);\n",
              "      }\n",
              "    </script>\n",
              "  </div>\n",
              "\n",
              "\n",
              "<div id=\"df-4dba4c96-b55f-4e50-80df-771ace69612e\">\n",
              "  <button class=\"colab-df-quickchart\" onclick=\"quickchart('df-4dba4c96-b55f-4e50-80df-771ace69612e')\"\n",
              "            title=\"Suggest charts\"\n",
              "            style=\"display:none;\">\n",
              "\n",
              "<svg xmlns=\"http://www.w3.org/2000/svg\" height=\"24px\"viewBox=\"0 0 24 24\"\n",
              "     width=\"24px\">\n",
              "    <g>\n",
              "        <path d=\"M19 3H5c-1.1 0-2 .9-2 2v14c0 1.1.9 2 2 2h14c1.1 0 2-.9 2-2V5c0-1.1-.9-2-2-2zM9 17H7v-7h2v7zm4 0h-2V7h2v10zm4 0h-2v-4h2v4z\"/>\n",
              "    </g>\n",
              "</svg>\n",
              "  </button>\n",
              "\n",
              "<style>\n",
              "  .colab-df-quickchart {\n",
              "      --bg-color: #E8F0FE;\n",
              "      --fill-color: #1967D2;\n",
              "      --hover-bg-color: #E2EBFA;\n",
              "      --hover-fill-color: #174EA6;\n",
              "      --disabled-fill-color: #AAA;\n",
              "      --disabled-bg-color: #DDD;\n",
              "  }\n",
              "\n",
              "  [theme=dark] .colab-df-quickchart {\n",
              "      --bg-color: #3B4455;\n",
              "      --fill-color: #D2E3FC;\n",
              "      --hover-bg-color: #434B5C;\n",
              "      --hover-fill-color: #FFFFFF;\n",
              "      --disabled-bg-color: #3B4455;\n",
              "      --disabled-fill-color: #666;\n",
              "  }\n",
              "\n",
              "  .colab-df-quickchart {\n",
              "    background-color: var(--bg-color);\n",
              "    border: none;\n",
              "    border-radius: 50%;\n",
              "    cursor: pointer;\n",
              "    display: none;\n",
              "    fill: var(--fill-color);\n",
              "    height: 32px;\n",
              "    padding: 0;\n",
              "    width: 32px;\n",
              "  }\n",
              "\n",
              "  .colab-df-quickchart:hover {\n",
              "    background-color: var(--hover-bg-color);\n",
              "    box-shadow: 0 1px 2px rgba(60, 64, 67, 0.3), 0 1px 3px 1px rgba(60, 64, 67, 0.15);\n",
              "    fill: var(--button-hover-fill-color);\n",
              "  }\n",
              "\n",
              "  .colab-df-quickchart-complete:disabled,\n",
              "  .colab-df-quickchart-complete:disabled:hover {\n",
              "    background-color: var(--disabled-bg-color);\n",
              "    fill: var(--disabled-fill-color);\n",
              "    box-shadow: none;\n",
              "  }\n",
              "\n",
              "  .colab-df-spinner {\n",
              "    border: 2px solid var(--fill-color);\n",
              "    border-color: transparent;\n",
              "    border-bottom-color: var(--fill-color);\n",
              "    animation:\n",
              "      spin 1s steps(1) infinite;\n",
              "  }\n",
              "\n",
              "  @keyframes spin {\n",
              "    0% {\n",
              "      border-color: transparent;\n",
              "      border-bottom-color: var(--fill-color);\n",
              "      border-left-color: var(--fill-color);\n",
              "    }\n",
              "    20% {\n",
              "      border-color: transparent;\n",
              "      border-left-color: var(--fill-color);\n",
              "      border-top-color: var(--fill-color);\n",
              "    }\n",
              "    30% {\n",
              "      border-color: transparent;\n",
              "      border-left-color: var(--fill-color);\n",
              "      border-top-color: var(--fill-color);\n",
              "      border-right-color: var(--fill-color);\n",
              "    }\n",
              "    40% {\n",
              "      border-color: transparent;\n",
              "      border-right-color: var(--fill-color);\n",
              "      border-top-color: var(--fill-color);\n",
              "    }\n",
              "    60% {\n",
              "      border-color: transparent;\n",
              "      border-right-color: var(--fill-color);\n",
              "    }\n",
              "    80% {\n",
              "      border-color: transparent;\n",
              "      border-right-color: var(--fill-color);\n",
              "      border-bottom-color: var(--fill-color);\n",
              "    }\n",
              "    90% {\n",
              "      border-color: transparent;\n",
              "      border-bottom-color: var(--fill-color);\n",
              "    }\n",
              "  }\n",
              "</style>\n",
              "\n",
              "  <script>\n",
              "    async function quickchart(key) {\n",
              "      const quickchartButtonEl =\n",
              "        document.querySelector('#' + key + ' button');\n",
              "      quickchartButtonEl.disabled = true;  // To prevent multiple clicks.\n",
              "      quickchartButtonEl.classList.add('colab-df-spinner');\n",
              "      try {\n",
              "        const charts = await google.colab.kernel.invokeFunction(\n",
              "            'suggestCharts', [key], {});\n",
              "      } catch (error) {\n",
              "        console.error('Error during call to suggestCharts:', error);\n",
              "      }\n",
              "      quickchartButtonEl.classList.remove('colab-df-spinner');\n",
              "      quickchartButtonEl.classList.add('colab-df-quickchart-complete');\n",
              "    }\n",
              "    (() => {\n",
              "      let quickchartButtonEl =\n",
              "        document.querySelector('#df-4dba4c96-b55f-4e50-80df-771ace69612e button');\n",
              "      quickchartButtonEl.style.display =\n",
              "        google.colab.kernel.accessAllowed ? 'block' : 'none';\n",
              "    })();\n",
              "  </script>\n",
              "</div>\n",
              "\n",
              "    </div>\n",
              "  </div>\n"
            ],
            "application/vnd.google.colaboratory.intrinsic+json": {
              "type": "dataframe"
            }
          },
          "metadata": {},
          "execution_count": 8
        }
      ]
    },
    {
      "cell_type": "code",
      "source": [
        "df.info(5) #finding basic information of all columns"
      ],
      "metadata": {
        "colab": {
          "base_uri": "https://localhost:8080/"
        },
        "id": "Nm1zPxLl1KzN",
        "outputId": "9a742538-7063-4322-cfb1-4e3ddf6513a3"
      },
      "execution_count": 9,
      "outputs": [
        {
          "output_type": "stream",
          "name": "stdout",
          "text": [
            "<class 'pandas.core.frame.DataFrame'>\n",
            "RangeIndex: 84090 entries, 0 to 84089\n",
            "Data columns (total 23 columns):\n",
            " #   Column              Non-Null Count  Dtype  \n",
            "---  ------              --------------  -----  \n",
            " 0   Job.ID              84090 non-null  int64  \n",
            " 1   Provider            84090 non-null  int64  \n",
            " 2   Status              84090 non-null  object \n",
            " 3   Slug                84090 non-null  object \n",
            " 4   Title               84090 non-null  object \n",
            " 5   Position            84090 non-null  object \n",
            " 6   Company             81819 non-null  object \n",
            " 7   City                83955 non-null  object \n",
            " 8   State.Name          83919 non-null  object \n",
            " 9   State.Code          83919 non-null  object \n",
            " 10  Address             36 non-null     object \n",
            " 11  Latitude            84090 non-null  float64\n",
            " 12  Longitude           84090 non-null  float64\n",
            " 13  Industry            267 non-null    object \n",
            " 14  Job.Description     84034 non-null  object \n",
            " 15  Requirements        0 non-null      float64\n",
            " 16  Salary              229 non-null    float64\n",
            " 17  Listing.Start       83407 non-null  object \n",
            " 18  Listing.End         83923 non-null  object \n",
            " 19  Employment.Type     84080 non-null  object \n",
            " 20  Education.Required  83823 non-null  object \n",
            " 21  Created.At          84090 non-null  object \n",
            " 22  Updated.At          84090 non-null  object \n",
            "dtypes: float64(4), int64(2), object(17)\n",
            "memory usage: 14.8+ MB\n"
          ]
        }
      ]
    },
    {
      "cell_type": "code",
      "source": [
        "df = df[['Title', 'Job.Description']]"
      ],
      "metadata": {
        "id": "qmnfHDSJxv93"
      },
      "execution_count": 10,
      "outputs": []
    },
    {
      "cell_type": "code",
      "source": [
        "df.head(3)"
      ],
      "metadata": {
        "colab": {
          "base_uri": "https://localhost:8080/",
          "height": 143
        },
        "id": "T5M-PgQYATnN",
        "outputId": "c8fd3cfb-f397-43f2-8820-bf2301112280"
      },
      "execution_count": 11,
      "outputs": [
        {
          "output_type": "execute_result",
          "data": {
            "text/plain": [
              "                                  Title  \\\n",
              "0                  Server @ Tacolicious   \n",
              "1      Kitchen Staff/Chef @ Claude Lane   \n",
              "2  Bartender @ Machka Restaurants Corp.   \n",
              "\n",
              "                                     Job.Description  \n",
              "0  Tacolicious' first Palo Alto store just opened...  \n",
              "1   \\r\\n\\r\\nNew French Brasserie in S.F. Financia...  \n",
              "2  We are a popular Mediterranean wine bar and re...  "
            ],
            "text/html": [
              "\n",
              "  <div id=\"df-91484547-17bc-4a09-bf14-da2f1173ee08\" class=\"colab-df-container\">\n",
              "    <div>\n",
              "<style scoped>\n",
              "    .dataframe tbody tr th:only-of-type {\n",
              "        vertical-align: middle;\n",
              "    }\n",
              "\n",
              "    .dataframe tbody tr th {\n",
              "        vertical-align: top;\n",
              "    }\n",
              "\n",
              "    .dataframe thead th {\n",
              "        text-align: right;\n",
              "    }\n",
              "</style>\n",
              "<table border=\"1\" class=\"dataframe\">\n",
              "  <thead>\n",
              "    <tr style=\"text-align: right;\">\n",
              "      <th></th>\n",
              "      <th>Title</th>\n",
              "      <th>Job.Description</th>\n",
              "    </tr>\n",
              "  </thead>\n",
              "  <tbody>\n",
              "    <tr>\n",
              "      <th>0</th>\n",
              "      <td>Server @ Tacolicious</td>\n",
              "      <td>Tacolicious' first Palo Alto store just opened...</td>\n",
              "    </tr>\n",
              "    <tr>\n",
              "      <th>1</th>\n",
              "      <td>Kitchen Staff/Chef @ Claude Lane</td>\n",
              "      <td>\\r\\n\\r\\nNew French Brasserie in S.F. Financia...</td>\n",
              "    </tr>\n",
              "    <tr>\n",
              "      <th>2</th>\n",
              "      <td>Bartender @ Machka Restaurants Corp.</td>\n",
              "      <td>We are a popular Mediterranean wine bar and re...</td>\n",
              "    </tr>\n",
              "  </tbody>\n",
              "</table>\n",
              "</div>\n",
              "    <div class=\"colab-df-buttons\">\n",
              "\n",
              "  <div class=\"colab-df-container\">\n",
              "    <button class=\"colab-df-convert\" onclick=\"convertToInteractive('df-91484547-17bc-4a09-bf14-da2f1173ee08')\"\n",
              "            title=\"Convert this dataframe to an interactive table.\"\n",
              "            style=\"display:none;\">\n",
              "\n",
              "  <svg xmlns=\"http://www.w3.org/2000/svg\" height=\"24px\" viewBox=\"0 -960 960 960\">\n",
              "    <path d=\"M120-120v-720h720v720H120Zm60-500h600v-160H180v160Zm220 220h160v-160H400v160Zm0 220h160v-160H400v160ZM180-400h160v-160H180v160Zm440 0h160v-160H620v160ZM180-180h160v-160H180v160Zm440 0h160v-160H620v160Z\"/>\n",
              "  </svg>\n",
              "    </button>\n",
              "\n",
              "  <style>\n",
              "    .colab-df-container {\n",
              "      display:flex;\n",
              "      gap: 12px;\n",
              "    }\n",
              "\n",
              "    .colab-df-convert {\n",
              "      background-color: #E8F0FE;\n",
              "      border: none;\n",
              "      border-radius: 50%;\n",
              "      cursor: pointer;\n",
              "      display: none;\n",
              "      fill: #1967D2;\n",
              "      height: 32px;\n",
              "      padding: 0 0 0 0;\n",
              "      width: 32px;\n",
              "    }\n",
              "\n",
              "    .colab-df-convert:hover {\n",
              "      background-color: #E2EBFA;\n",
              "      box-shadow: 0px 1px 2px rgba(60, 64, 67, 0.3), 0px 1px 3px 1px rgba(60, 64, 67, 0.15);\n",
              "      fill: #174EA6;\n",
              "    }\n",
              "\n",
              "    .colab-df-buttons div {\n",
              "      margin-bottom: 4px;\n",
              "    }\n",
              "\n",
              "    [theme=dark] .colab-df-convert {\n",
              "      background-color: #3B4455;\n",
              "      fill: #D2E3FC;\n",
              "    }\n",
              "\n",
              "    [theme=dark] .colab-df-convert:hover {\n",
              "      background-color: #434B5C;\n",
              "      box-shadow: 0px 1px 3px 1px rgba(0, 0, 0, 0.15);\n",
              "      filter: drop-shadow(0px 1px 2px rgba(0, 0, 0, 0.3));\n",
              "      fill: #FFFFFF;\n",
              "    }\n",
              "  </style>\n",
              "\n",
              "    <script>\n",
              "      const buttonEl =\n",
              "        document.querySelector('#df-91484547-17bc-4a09-bf14-da2f1173ee08 button.colab-df-convert');\n",
              "      buttonEl.style.display =\n",
              "        google.colab.kernel.accessAllowed ? 'block' : 'none';\n",
              "\n",
              "      async function convertToInteractive(key) {\n",
              "        const element = document.querySelector('#df-91484547-17bc-4a09-bf14-da2f1173ee08');\n",
              "        const dataTable =\n",
              "          await google.colab.kernel.invokeFunction('convertToInteractive',\n",
              "                                                    [key], {});\n",
              "        if (!dataTable) return;\n",
              "\n",
              "        const docLinkHtml = 'Like what you see? Visit the ' +\n",
              "          '<a target=\"_blank\" href=https://colab.research.google.com/notebooks/data_table.ipynb>data table notebook</a>'\n",
              "          + ' to learn more about interactive tables.';\n",
              "        element.innerHTML = '';\n",
              "        dataTable['output_type'] = 'display_data';\n",
              "        await google.colab.output.renderOutput(dataTable, element);\n",
              "        const docLink = document.createElement('div');\n",
              "        docLink.innerHTML = docLinkHtml;\n",
              "        element.appendChild(docLink);\n",
              "      }\n",
              "    </script>\n",
              "  </div>\n",
              "\n",
              "\n",
              "<div id=\"df-e8db6d57-cde4-4940-9b35-906055d1e206\">\n",
              "  <button class=\"colab-df-quickchart\" onclick=\"quickchart('df-e8db6d57-cde4-4940-9b35-906055d1e206')\"\n",
              "            title=\"Suggest charts\"\n",
              "            style=\"display:none;\">\n",
              "\n",
              "<svg xmlns=\"http://www.w3.org/2000/svg\" height=\"24px\"viewBox=\"0 0 24 24\"\n",
              "     width=\"24px\">\n",
              "    <g>\n",
              "        <path d=\"M19 3H5c-1.1 0-2 .9-2 2v14c0 1.1.9 2 2 2h14c1.1 0 2-.9 2-2V5c0-1.1-.9-2-2-2zM9 17H7v-7h2v7zm4 0h-2V7h2v10zm4 0h-2v-4h2v4z\"/>\n",
              "    </g>\n",
              "</svg>\n",
              "  </button>\n",
              "\n",
              "<style>\n",
              "  .colab-df-quickchart {\n",
              "      --bg-color: #E8F0FE;\n",
              "      --fill-color: #1967D2;\n",
              "      --hover-bg-color: #E2EBFA;\n",
              "      --hover-fill-color: #174EA6;\n",
              "      --disabled-fill-color: #AAA;\n",
              "      --disabled-bg-color: #DDD;\n",
              "  }\n",
              "\n",
              "  [theme=dark] .colab-df-quickchart {\n",
              "      --bg-color: #3B4455;\n",
              "      --fill-color: #D2E3FC;\n",
              "      --hover-bg-color: #434B5C;\n",
              "      --hover-fill-color: #FFFFFF;\n",
              "      --disabled-bg-color: #3B4455;\n",
              "      --disabled-fill-color: #666;\n",
              "  }\n",
              "\n",
              "  .colab-df-quickchart {\n",
              "    background-color: var(--bg-color);\n",
              "    border: none;\n",
              "    border-radius: 50%;\n",
              "    cursor: pointer;\n",
              "    display: none;\n",
              "    fill: var(--fill-color);\n",
              "    height: 32px;\n",
              "    padding: 0;\n",
              "    width: 32px;\n",
              "  }\n",
              "\n",
              "  .colab-df-quickchart:hover {\n",
              "    background-color: var(--hover-bg-color);\n",
              "    box-shadow: 0 1px 2px rgba(60, 64, 67, 0.3), 0 1px 3px 1px rgba(60, 64, 67, 0.15);\n",
              "    fill: var(--button-hover-fill-color);\n",
              "  }\n",
              "\n",
              "  .colab-df-quickchart-complete:disabled,\n",
              "  .colab-df-quickchart-complete:disabled:hover {\n",
              "    background-color: var(--disabled-bg-color);\n",
              "    fill: var(--disabled-fill-color);\n",
              "    box-shadow: none;\n",
              "  }\n",
              "\n",
              "  .colab-df-spinner {\n",
              "    border: 2px solid var(--fill-color);\n",
              "    border-color: transparent;\n",
              "    border-bottom-color: var(--fill-color);\n",
              "    animation:\n",
              "      spin 1s steps(1) infinite;\n",
              "  }\n",
              "\n",
              "  @keyframes spin {\n",
              "    0% {\n",
              "      border-color: transparent;\n",
              "      border-bottom-color: var(--fill-color);\n",
              "      border-left-color: var(--fill-color);\n",
              "    }\n",
              "    20% {\n",
              "      border-color: transparent;\n",
              "      border-left-color: var(--fill-color);\n",
              "      border-top-color: var(--fill-color);\n",
              "    }\n",
              "    30% {\n",
              "      border-color: transparent;\n",
              "      border-left-color: var(--fill-color);\n",
              "      border-top-color: var(--fill-color);\n",
              "      border-right-color: var(--fill-color);\n",
              "    }\n",
              "    40% {\n",
              "      border-color: transparent;\n",
              "      border-right-color: var(--fill-color);\n",
              "      border-top-color: var(--fill-color);\n",
              "    }\n",
              "    60% {\n",
              "      border-color: transparent;\n",
              "      border-right-color: var(--fill-color);\n",
              "    }\n",
              "    80% {\n",
              "      border-color: transparent;\n",
              "      border-right-color: var(--fill-color);\n",
              "      border-bottom-color: var(--fill-color);\n",
              "    }\n",
              "    90% {\n",
              "      border-color: transparent;\n",
              "      border-bottom-color: var(--fill-color);\n",
              "    }\n",
              "  }\n",
              "</style>\n",
              "\n",
              "  <script>\n",
              "    async function quickchart(key) {\n",
              "      const quickchartButtonEl =\n",
              "        document.querySelector('#' + key + ' button');\n",
              "      quickchartButtonEl.disabled = true;  // To prevent multiple clicks.\n",
              "      quickchartButtonEl.classList.add('colab-df-spinner');\n",
              "      try {\n",
              "        const charts = await google.colab.kernel.invokeFunction(\n",
              "            'suggestCharts', [key], {});\n",
              "      } catch (error) {\n",
              "        console.error('Error during call to suggestCharts:', error);\n",
              "      }\n",
              "      quickchartButtonEl.classList.remove('colab-df-spinner');\n",
              "      quickchartButtonEl.classList.add('colab-df-quickchart-complete');\n",
              "    }\n",
              "    (() => {\n",
              "      let quickchartButtonEl =\n",
              "        document.querySelector('#df-e8db6d57-cde4-4940-9b35-906055d1e206 button');\n",
              "      quickchartButtonEl.style.display =\n",
              "        google.colab.kernel.accessAllowed ? 'block' : 'none';\n",
              "    })();\n",
              "  </script>\n",
              "</div>\n",
              "\n",
              "    </div>\n",
              "  </div>\n"
            ],
            "application/vnd.google.colaboratory.intrinsic+json": {
              "type": "dataframe",
              "variable_name": "df",
              "summary": "{\n  \"name\": \"df\",\n  \"rows\": 84090,\n  \"fields\": [\n    {\n      \"column\": \"Title\",\n      \"properties\": {\n        \"dtype\": \"category\",\n        \"num_unique_values\": 41861,\n        \"samples\": [\n          \"General Office Clerk Needed ASAP! @ OfficeTeam\",\n          \"Merchandiser/In-Store Representative-Part Time (Racine/Milwaukee, WI) @ Lonza Group\",\n          \"Temporary Mailroom Assistant (3pm - 11pm) @ OfficeTeam\"\n        ],\n        \"semantic_type\": \"\",\n        \"description\": \"\"\n      }\n    },\n    {\n      \"column\": \"Job.Description\",\n      \"properties\": {\n        \"dtype\": \"string\",\n        \"num_unique_values\": 59269,\n        \"samples\": [\n          \"Ref ID:00410-184409Classification:Accounts Payable ClerkCompensation:$19.00 to $22.00 per hourAre you interested in working at a cloud-based technology start-up in San Francisco? We are currently seeking a motivated Accounts Payable Clerk, so if you have 1+ years of experience please send us your resume!  We can be reached by email at: [Click Here to Email Your Resum\\u00e9], or phone: 415-434-1900.  Accounts Payable duties include, but are not limited to:   - Process full-cycle accounts payable. Approximately 50+ invoices per week.   - Work with vendors regarding reconciliation of invoices and payments.   - Assisting in researching and reconciling any vendor discrepancies.   - Code and enter approved invoices into the accounting system.   - Distribute and mail checks.   - File invoices and check copies.   - Maintain the vendor database. \",\n          \"Ref ID: 04210-9734279Classification: Receptionist/SwitchboardCompensation: $11.00 to $14.00 per hourThe Receptionist position is responsible for serving as a direct point of contact for a variety of internal and external customers. They are responsible for opening and closing the office, front desk reception, answering phones, greeting visitors, processing mail (including shipping and receiving), meeting planning, assisting with company function planning and support, ordering supplies, maintaining lobby area, reception handbook, facilities support, and administrative support to divisions within the office. A positive attitude, excellent communication skills, strong multitasking ability and an interest in learning new skills/technologies with the ability to take initiative in completing projects and workload related activities are requirements for the job.\",\n          \"Ref ID: 02380-114780Classification: Receptionist/SwitchboardCompensation: $10.00 to $10.00 per hourOfficeTeam is looking for a strong RECEPTIONIST to help out a client of ours for FOUR hours on Friday, December 19th, 2014 in Mission Hills, KS. This Receptionist will work ONE DAY for 10:30 am- 2:30 pm. This person will be answering the phone and taking important messages and greeting guests as they come in. This is for one day only so must be okay with working temporary. If you or someone you know has receptionist experience, please call 913-451-1014 or you may apply at www.officteam.com!!\"\n        ],\n        \"semantic_type\": \"\",\n        \"description\": \"\"\n      }\n    }\n  ]\n}"
            }
          },
          "metadata": {},
          "execution_count": 11
        }
      ]
    },
    {
      "cell_type": "code",
      "source": [
        "df['Title'][1]"
      ],
      "metadata": {
        "colab": {
          "base_uri": "https://localhost:8080/",
          "height": 36
        },
        "id": "lIypRP_0AaJE",
        "outputId": "039d66ba-da1f-436c-8814-3c30126d525c"
      },
      "execution_count": 12,
      "outputs": [
        {
          "output_type": "execute_result",
          "data": {
            "text/plain": [
              "'Kitchen Staff/Chef @ Claude Lane'"
            ],
            "application/vnd.google.colaboratory.intrinsic+json": {
              "type": "string"
            }
          },
          "metadata": {},
          "execution_count": 12
        }
      ]
    },
    {
      "cell_type": "code",
      "source": [
        "df['Job.Description'][1]"
      ],
      "metadata": {
        "colab": {
          "base_uri": "https://localhost:8080/",
          "height": 218
        },
        "id": "owGVRqGezVOx",
        "outputId": "fde6a58e-0b8e-475a-e7f5-d859e90b1ed2"
      },
      "execution_count": 13,
      "outputs": [
        {
          "output_type": "execute_result",
          "data": {
            "text/plain": [
              "' \\r\\n\\r\\nNew French Brasserie in S.F. Financial District Seeks Chef\\r\\nWe are seeking an energetic, dynamic chef to take charge and grow with our company. Our ideal candidate is a motivated self-starter, has a great work ethic and is ready for the challenge of building their own team with executive support. \\r\\n\\r\\nThis position is a perfect fit for a talented chef ready to take the next step, someone who can multi task in a high volume kitchen and has exceptional organizational skills. Position requirements are experience with French cuisine, a minimum of 5 years as a sous chef in high volume, full service restaurant. He or she must be a team player, leading by example and working side by side with other members of the team. \\r\\n\\r\\nComputer and management skills are a must, as are experience in ordering, inventory and cost control. The right candidate will have previously demonstrated an understanding of leadership and accountability, and an infectious, energetic approach to problem solving and facing challenges. \\r\\n\\r\\nWe are an equal opportunity employer. Qualified applicants are considered for employment without regard to age, race, religion, sex, national origin, sexual orientation, disability, or veteran status. \\r\\n'"
            ],
            "application/vnd.google.colaboratory.intrinsic+json": {
              "type": "string"
            }
          },
          "metadata": {},
          "execution_count": 13
        }
      ]
    },
    {
      "cell_type": "code",
      "source": [
        "df = df.sample (n=1000,random_state=42)\n",
        "df.shape"
      ],
      "metadata": {
        "colab": {
          "base_uri": "https://localhost:8080/"
        },
        "id": "st0EnWZwEdLj",
        "outputId": "c259c903-af41-497f-ba51-ef5b9e51754c"
      },
      "execution_count": 14,
      "outputs": [
        {
          "output_type": "execute_result",
          "data": {
            "text/plain": [
              "(1000, 2)"
            ]
          },
          "metadata": {},
          "execution_count": 14
        }
      ]
    },
    {
      "cell_type": "code",
      "source": [
        "print(df.head())"
      ],
      "metadata": {
        "colab": {
          "base_uri": "https://localhost:8080/"
        },
        "id": "GSglf2VT0MVl",
        "outputId": "af9d071e-7045-4229-d312-9849aff87a86"
      },
      "execution_count": 15,
      "outputs": [
        {
          "output_type": "stream",
          "name": "stdout",
          "text": [
            "                                                   Title  \\\n",
            "64119                 Site Director @ Knowledge Universe   \n",
            "35827              Administrative Assistant @ OfficeTeam   \n",
            "72100              Account Manager @ CHI Payment Systems   \n",
            "46355  Outside Wholesale Sales Rep (PART-TIME) @ Rive...   \n",
            "34166  Customer Service Rep- Help People with Hearing...   \n",
            "\n",
            "                                         Job.Description  \n",
            "64119  Job Summary Knowledge Universe (KU) Site Direc...  \n",
            "35827  Ref ID: 03110-118480Classification: Secretary/...  \n",
            "72100  If you&rsquo;re energetic, motivated, hardwork...  \n",
            "46355  OUTSIDE WHOLESALE SALES REP\\r\\n\\r\\nJob Respons...  \n",
            "34166   CaptionCall® Communication Assistant    Imagi...  \n"
          ]
        }
      ]
    },
    {
      "cell_type": "code",
      "source": [
        "import nltk\n",
        "from  nltk.stem.porter import PorterStemmer\n",
        "from nltk.corpus import stopwords\n",
        "from nltk.stem import WordNetLemmatizer\n",
        "import re\n",
        "import os"
      ],
      "metadata": {
        "id": "SbPjxEVrz-fX"
      },
      "execution_count": 16,
      "outputs": []
    },
    {
      "cell_type": "code",
      "source": [
        "nltk.download('stopwords')\n",
        "nltk.download('wordnet')\n",
        "nltk.download('omw-1.4')\n",
        "nltk.download('punkt')\n",
        "nltk.download('punkt_tab')\n",
        "nltk.download('punkt')"
      ],
      "metadata": {
        "colab": {
          "base_uri": "https://localhost:8080/"
        },
        "id": "VztN6TyToGjh",
        "outputId": "f6ecb933-2b42-4e6e-e933-53f1e6c708ee"
      },
      "execution_count": 17,
      "outputs": [
        {
          "output_type": "stream",
          "name": "stderr",
          "text": [
            "[nltk_data] Downloading package stopwords to /root/nltk_data...\n",
            "[nltk_data]   Unzipping corpora/stopwords.zip.\n",
            "[nltk_data] Downloading package wordnet to /root/nltk_data...\n",
            "[nltk_data] Downloading package omw-1.4 to /root/nltk_data...\n",
            "[nltk_data] Downloading package punkt to /root/nltk_data...\n",
            "[nltk_data]   Unzipping tokenizers/punkt.zip.\n",
            "[nltk_data] Downloading package punkt_tab to /root/nltk_data...\n",
            "[nltk_data]   Unzipping tokenizers/punkt_tab.zip.\n",
            "[nltk_data] Downloading package punkt to /root/nltk_data...\n",
            "[nltk_data]   Package punkt is already up-to-date!\n"
          ]
        },
        {
          "output_type": "execute_result",
          "data": {
            "text/plain": [
              "True"
            ]
          },
          "metadata": {},
          "execution_count": 17
        }
      ]
    },
    {
      "cell_type": "code",
      "source": [
        "import nltk\n",
        "\n",
        "# Define resources list\n",
        "resources = ['punkt', 'averaged_perceptron_tagger', 'maxent_ne_chunker', 'words'] #add resources you want to check\n",
        "missing_resources = []\n",
        "\n",
        "for resource in resources:\n",
        "    try:\n",
        "        nltk.data.find(f'tokenizers/{resource}') # check if already downloaded\n",
        "    except LookupError:\n",
        "        missing_resources.append(resource)\n",
        "        print(f\"Resource '{resource}' not found. Downloading...\") # Inform if downloaded\n",
        "        nltk.download(resource) # Download missing resources\n",
        "    else:\n",
        "        print(f\"Resource '{resource}' found.\") # Inform if found"
      ],
      "metadata": {
        "colab": {
          "base_uri": "https://localhost:8080/"
        },
        "id": "vL2xsOGIyyJS",
        "outputId": "9effa161-1cd8-4991-daac-7127e9f7a56a"
      },
      "execution_count": 18,
      "outputs": [
        {
          "output_type": "stream",
          "name": "stderr",
          "text": [
            "[nltk_data] Downloading package averaged_perceptron_tagger to\n",
            "[nltk_data]     /root/nltk_data...\n"
          ]
        },
        {
          "output_type": "stream",
          "name": "stdout",
          "text": [
            "Resource 'punkt' found.\n",
            "Resource 'averaged_perceptron_tagger' not found. Downloading...\n"
          ]
        },
        {
          "output_type": "stream",
          "name": "stderr",
          "text": [
            "[nltk_data]   Unzipping taggers/averaged_perceptron_tagger.zip.\n",
            "[nltk_data] Downloading package maxent_ne_chunker to\n",
            "[nltk_data]     /root/nltk_data...\n"
          ]
        },
        {
          "output_type": "stream",
          "name": "stdout",
          "text": [
            "Resource 'maxent_ne_chunker' not found. Downloading...\n"
          ]
        },
        {
          "output_type": "stream",
          "name": "stderr",
          "text": [
            "[nltk_data]   Unzipping chunkers/maxent_ne_chunker.zip.\n"
          ]
        },
        {
          "output_type": "stream",
          "name": "stdout",
          "text": [
            "Resource 'words' not found. Downloading...\n"
          ]
        },
        {
          "output_type": "stream",
          "name": "stderr",
          "text": [
            "[nltk_data] Downloading package words to /root/nltk_data...\n",
            "[nltk_data]   Unzipping corpora/words.zip.\n"
          ]
        }
      ]
    },
    {
      "cell_type": "code",
      "source": [
        "lemmatizer = WordNetLemmatizer()\n",
        "stop_words = set(stopwords.words('english'))"
      ],
      "metadata": {
        "id": "pZLWeeAOoJhw"
      },
      "execution_count": 19,
      "outputs": []
    },
    {
      "cell_type": "code",
      "source": [
        "resources = ['punkt_tab', 'punkt']  # List of resources to check\n",
        "missing_resources = []"
      ],
      "metadata": {
        "id": "1XSkGuIu0ypB"
      },
      "execution_count": 20,
      "outputs": []
    },
    {
      "cell_type": "code",
      "source": [
        "ps = PorterStemmer()"
      ],
      "metadata": {
        "id": "JsHS48uc08KB"
      },
      "execution_count": 21,
      "outputs": []
    },
    {
      "cell_type": "code",
      "source": [
        "\n",
        "def cleaning(txt):\n",
        "  cleaned_txt = re.sub(r'[^a-zA-Z0-9\\s]','',txt)\n",
        "  tokens = nltk.word_tokenize(cleaned_txt.lower())\n",
        "  lemmas = [lemmatizer.lemmatize(word) for word in tokens if word not in stopwords.words('english')]\n",
        "  return \" \".join(lemmas)\n"
      ],
      "metadata": {
        "id": "lk5v0ug2mO6O"
      },
      "execution_count": 22,
      "outputs": []
    },
    {
      "cell_type": "code",
      "source": [
        "df['preprocessed'] = df['Title'] + \" \" + df['Job.Description']"
      ],
      "metadata": {
        "id": "HJrAAibTV5WW"
      },
      "execution_count": 23,
      "outputs": []
    },
    {
      "cell_type": "markdown",
      "source": [
        "##Apply Preprocessing"
      ],
      "metadata": {
        "id": "AV4G7BbqWfIi"
      }
    },
    {
      "cell_type": "code",
      "source": [
        "def preprocess_text(text):\n",
        "    # Convert to string if not already\n",
        "    text = str(text)\n",
        "    # Tokenize the text\n",
        "    tokens = nltk.word_tokenize(text.lower())\n",
        "    # Remove punctuation and stop words, then lemmatize\n",
        "    processed_tokens = [lemmatizer.lemmatize(word) for word in tokens if word.isalnum() and word not in stop_words]\n",
        "    return \" \".join(processed_tokens)\n",
        "\n",
        "df['preprocessed'] = df['preprocessed'].apply(preprocess_text)"
      ],
      "metadata": {
        "id": "FaWHAkMWWrYf"
      },
      "execution_count": 25,
      "outputs": []
    },
    {
      "cell_type": "code",
      "source": [
        "cleaning('this is my book with 0987 digits loving moving driven and \\n\\n\\r &^%')\n",
        "\n"
      ],
      "metadata": {
        "colab": {
          "base_uri": "https://localhost:8080/",
          "height": 36
        },
        "id": "Sa-SI5Ids1zt",
        "outputId": "02e84d04-9536-4302-9c4a-f14b02061566"
      },
      "execution_count": 26,
      "outputs": [
        {
          "output_type": "execute_result",
          "data": {
            "text/plain": [
              "'book 0987 digit loving moving driven'"
            ],
            "application/vnd.google.colaboratory.intrinsic+json": {
              "type": "string"
            }
          },
          "metadata": {},
          "execution_count": 26
        }
      ]
    },
    {
      "cell_type": "code",
      "source": [
        "df = df.reset_index(drop=True)"
      ],
      "metadata": {
        "id": "HwRw1yvapBpA"
      },
      "execution_count": 27,
      "outputs": []
    },
    {
      "cell_type": "code",
      "source": [
        "df['Title'] = df['Title'].apply(lambda x:cleaning(x))\n",
        "df['Job.Description'] = df['Job.Description'].astype(str).apply(lambda x:cleaning(x))"
      ],
      "metadata": {
        "id": "-12Gi5fs3RL2"
      },
      "execution_count": 28,
      "outputs": []
    },
    {
      "cell_type": "code",
      "source": [
        "df['Job.Description']"
      ],
      "metadata": {
        "id": "H2E1EfKMJn4h",
        "colab": {
          "base_uri": "https://localhost:8080/",
          "height": 458
        },
        "outputId": "7618ed92-8560-4f2d-a7ae-5b8e0f6a30a5"
      },
      "execution_count": 29,
      "outputs": [
        {
          "output_type": "execute_result",
          "data": {
            "text/plain": [
              "0      job summary knowledge universe ku site directo...\n",
              "1      ref id 03110118480classification secretaryadmi...\n",
              "2      yoursquore energetic motivated hardworking loo...\n",
              "3      outside wholesale sale rep job responsibility ...\n",
              "4      captioncall communication assistant imagine li...\n",
              "                             ...                        \n",
              "995    nbsp eager learn opportunity whether looking p...\n",
              "996    ref id02120107460classificationaccountant staf...\n",
              "997    direct supervision unarmed security officer re...\n",
              "998    summary responsible maintaining setting food p...\n",
              "999    position description provides overall leadersh...\n",
              "Name: Job.Description, Length: 1000, dtype: object"
            ],
            "text/html": [
              "<div>\n",
              "<style scoped>\n",
              "    .dataframe tbody tr th:only-of-type {\n",
              "        vertical-align: middle;\n",
              "    }\n",
              "\n",
              "    .dataframe tbody tr th {\n",
              "        vertical-align: top;\n",
              "    }\n",
              "\n",
              "    .dataframe thead th {\n",
              "        text-align: right;\n",
              "    }\n",
              "</style>\n",
              "<table border=\"1\" class=\"dataframe\">\n",
              "  <thead>\n",
              "    <tr style=\"text-align: right;\">\n",
              "      <th></th>\n",
              "      <th>Job.Description</th>\n",
              "    </tr>\n",
              "  </thead>\n",
              "  <tbody>\n",
              "    <tr>\n",
              "      <th>0</th>\n",
              "      <td>job summary knowledge universe ku site directo...</td>\n",
              "    </tr>\n",
              "    <tr>\n",
              "      <th>1</th>\n",
              "      <td>ref id 03110118480classification secretaryadmi...</td>\n",
              "    </tr>\n",
              "    <tr>\n",
              "      <th>2</th>\n",
              "      <td>yoursquore energetic motivated hardworking loo...</td>\n",
              "    </tr>\n",
              "    <tr>\n",
              "      <th>3</th>\n",
              "      <td>outside wholesale sale rep job responsibility ...</td>\n",
              "    </tr>\n",
              "    <tr>\n",
              "      <th>4</th>\n",
              "      <td>captioncall communication assistant imagine li...</td>\n",
              "    </tr>\n",
              "    <tr>\n",
              "      <th>...</th>\n",
              "      <td>...</td>\n",
              "    </tr>\n",
              "    <tr>\n",
              "      <th>995</th>\n",
              "      <td>nbsp eager learn opportunity whether looking p...</td>\n",
              "    </tr>\n",
              "    <tr>\n",
              "      <th>996</th>\n",
              "      <td>ref id02120107460classificationaccountant staf...</td>\n",
              "    </tr>\n",
              "    <tr>\n",
              "      <th>997</th>\n",
              "      <td>direct supervision unarmed security officer re...</td>\n",
              "    </tr>\n",
              "    <tr>\n",
              "      <th>998</th>\n",
              "      <td>summary responsible maintaining setting food p...</td>\n",
              "    </tr>\n",
              "    <tr>\n",
              "      <th>999</th>\n",
              "      <td>position description provides overall leadersh...</td>\n",
              "    </tr>\n",
              "  </tbody>\n",
              "</table>\n",
              "<p>1000 rows × 1 columns</p>\n",
              "</div><br><label><b>dtype:</b> object</label>"
            ]
          },
          "metadata": {},
          "execution_count": 29
        }
      ]
    },
    {
      "cell_type": "code",
      "source": [
        "df['new col'] = df['Title'] + \" \" + df['Job.Description']"
      ],
      "metadata": {
        "id": "hpWWnBao8NvE"
      },
      "execution_count": 30,
      "outputs": []
    },
    {
      "cell_type": "code",
      "source": [
        "df.head(3)"
      ],
      "metadata": {
        "id": "6yqhDvDCKi2p",
        "colab": {
          "base_uri": "https://localhost:8080/",
          "height": 230
        },
        "outputId": "80c8c547-e224-426a-efa8-63fa46911cce"
      },
      "execution_count": 31,
      "outputs": [
        {
          "output_type": "execute_result",
          "data": {
            "text/plain": [
              "                                 Title  \\\n",
              "0     site director knowledge universe   \n",
              "1  administrative assistant officeteam   \n",
              "2   account manager chi payment system   \n",
              "\n",
              "                                     Job.Description  \\\n",
              "0  job summary knowledge universe ku site directo...   \n",
              "1  ref id 03110118480classification secretaryadmi...   \n",
              "2  yoursquore energetic motivated hardworking loo...   \n",
              "\n",
              "                                        preprocessed  \\\n",
              "0  site director knowledge universe job summary k...   \n",
              "1  administrative assistant officeteam ref id ass...   \n",
              "2  account manager chi payment system rsquo energ...   \n",
              "\n",
              "                                             new col  \n",
              "0  site director knowledge universe job summary k...  \n",
              "1  administrative assistant officeteam ref id 031...  \n",
              "2  account manager chi payment system yoursquore ...  "
            ],
            "text/html": [
              "\n",
              "  <div id=\"df-ee039962-49b9-4611-a3a3-b270aee2946c\" class=\"colab-df-container\">\n",
              "    <div>\n",
              "<style scoped>\n",
              "    .dataframe tbody tr th:only-of-type {\n",
              "        vertical-align: middle;\n",
              "    }\n",
              "\n",
              "    .dataframe tbody tr th {\n",
              "        vertical-align: top;\n",
              "    }\n",
              "\n",
              "    .dataframe thead th {\n",
              "        text-align: right;\n",
              "    }\n",
              "</style>\n",
              "<table border=\"1\" class=\"dataframe\">\n",
              "  <thead>\n",
              "    <tr style=\"text-align: right;\">\n",
              "      <th></th>\n",
              "      <th>Title</th>\n",
              "      <th>Job.Description</th>\n",
              "      <th>preprocessed</th>\n",
              "      <th>new col</th>\n",
              "    </tr>\n",
              "  </thead>\n",
              "  <tbody>\n",
              "    <tr>\n",
              "      <th>0</th>\n",
              "      <td>site director knowledge universe</td>\n",
              "      <td>job summary knowledge universe ku site directo...</td>\n",
              "      <td>site director knowledge universe job summary k...</td>\n",
              "      <td>site director knowledge universe job summary k...</td>\n",
              "    </tr>\n",
              "    <tr>\n",
              "      <th>1</th>\n",
              "      <td>administrative assistant officeteam</td>\n",
              "      <td>ref id 03110118480classification secretaryadmi...</td>\n",
              "      <td>administrative assistant officeteam ref id ass...</td>\n",
              "      <td>administrative assistant officeteam ref id 031...</td>\n",
              "    </tr>\n",
              "    <tr>\n",
              "      <th>2</th>\n",
              "      <td>account manager chi payment system</td>\n",
              "      <td>yoursquore energetic motivated hardworking loo...</td>\n",
              "      <td>account manager chi payment system rsquo energ...</td>\n",
              "      <td>account manager chi payment system yoursquore ...</td>\n",
              "    </tr>\n",
              "  </tbody>\n",
              "</table>\n",
              "</div>\n",
              "    <div class=\"colab-df-buttons\">\n",
              "\n",
              "  <div class=\"colab-df-container\">\n",
              "    <button class=\"colab-df-convert\" onclick=\"convertToInteractive('df-ee039962-49b9-4611-a3a3-b270aee2946c')\"\n",
              "            title=\"Convert this dataframe to an interactive table.\"\n",
              "            style=\"display:none;\">\n",
              "\n",
              "  <svg xmlns=\"http://www.w3.org/2000/svg\" height=\"24px\" viewBox=\"0 -960 960 960\">\n",
              "    <path d=\"M120-120v-720h720v720H120Zm60-500h600v-160H180v160Zm220 220h160v-160H400v160Zm0 220h160v-160H400v160ZM180-400h160v-160H180v160Zm440 0h160v-160H620v160ZM180-180h160v-160H180v160Zm440 0h160v-160H620v160Z\"/>\n",
              "  </svg>\n",
              "    </button>\n",
              "\n",
              "  <style>\n",
              "    .colab-df-container {\n",
              "      display:flex;\n",
              "      gap: 12px;\n",
              "    }\n",
              "\n",
              "    .colab-df-convert {\n",
              "      background-color: #E8F0FE;\n",
              "      border: none;\n",
              "      border-radius: 50%;\n",
              "      cursor: pointer;\n",
              "      display: none;\n",
              "      fill: #1967D2;\n",
              "      height: 32px;\n",
              "      padding: 0 0 0 0;\n",
              "      width: 32px;\n",
              "    }\n",
              "\n",
              "    .colab-df-convert:hover {\n",
              "      background-color: #E2EBFA;\n",
              "      box-shadow: 0px 1px 2px rgba(60, 64, 67, 0.3), 0px 1px 3px 1px rgba(60, 64, 67, 0.15);\n",
              "      fill: #174EA6;\n",
              "    }\n",
              "\n",
              "    .colab-df-buttons div {\n",
              "      margin-bottom: 4px;\n",
              "    }\n",
              "\n",
              "    [theme=dark] .colab-df-convert {\n",
              "      background-color: #3B4455;\n",
              "      fill: #D2E3FC;\n",
              "    }\n",
              "\n",
              "    [theme=dark] .colab-df-convert:hover {\n",
              "      background-color: #434B5C;\n",
              "      box-shadow: 0px 1px 3px 1px rgba(0, 0, 0, 0.15);\n",
              "      filter: drop-shadow(0px 1px 2px rgba(0, 0, 0, 0.3));\n",
              "      fill: #FFFFFF;\n",
              "    }\n",
              "  </style>\n",
              "\n",
              "    <script>\n",
              "      const buttonEl =\n",
              "        document.querySelector('#df-ee039962-49b9-4611-a3a3-b270aee2946c button.colab-df-convert');\n",
              "      buttonEl.style.display =\n",
              "        google.colab.kernel.accessAllowed ? 'block' : 'none';\n",
              "\n",
              "      async function convertToInteractive(key) {\n",
              "        const element = document.querySelector('#df-ee039962-49b9-4611-a3a3-b270aee2946c');\n",
              "        const dataTable =\n",
              "          await google.colab.kernel.invokeFunction('convertToInteractive',\n",
              "                                                    [key], {});\n",
              "        if (!dataTable) return;\n",
              "\n",
              "        const docLinkHtml = 'Like what you see? Visit the ' +\n",
              "          '<a target=\"_blank\" href=https://colab.research.google.com/notebooks/data_table.ipynb>data table notebook</a>'\n",
              "          + ' to learn more about interactive tables.';\n",
              "        element.innerHTML = '';\n",
              "        dataTable['output_type'] = 'display_data';\n",
              "        await google.colab.output.renderOutput(dataTable, element);\n",
              "        const docLink = document.createElement('div');\n",
              "        docLink.innerHTML = docLinkHtml;\n",
              "        element.appendChild(docLink);\n",
              "      }\n",
              "    </script>\n",
              "  </div>\n",
              "\n",
              "\n",
              "<div id=\"df-bcaef949-ac3c-4637-be7c-4a08239a8996\">\n",
              "  <button class=\"colab-df-quickchart\" onclick=\"quickchart('df-bcaef949-ac3c-4637-be7c-4a08239a8996')\"\n",
              "            title=\"Suggest charts\"\n",
              "            style=\"display:none;\">\n",
              "\n",
              "<svg xmlns=\"http://www.w3.org/2000/svg\" height=\"24px\"viewBox=\"0 0 24 24\"\n",
              "     width=\"24px\">\n",
              "    <g>\n",
              "        <path d=\"M19 3H5c-1.1 0-2 .9-2 2v14c0 1.1.9 2 2 2h14c1.1 0 2-.9 2-2V5c0-1.1-.9-2-2-2zM9 17H7v-7h2v7zm4 0h-2V7h2v10zm4 0h-2v-4h2v4z\"/>\n",
              "    </g>\n",
              "</svg>\n",
              "  </button>\n",
              "\n",
              "<style>\n",
              "  .colab-df-quickchart {\n",
              "      --bg-color: #E8F0FE;\n",
              "      --fill-color: #1967D2;\n",
              "      --hover-bg-color: #E2EBFA;\n",
              "      --hover-fill-color: #174EA6;\n",
              "      --disabled-fill-color: #AAA;\n",
              "      --disabled-bg-color: #DDD;\n",
              "  }\n",
              "\n",
              "  [theme=dark] .colab-df-quickchart {\n",
              "      --bg-color: #3B4455;\n",
              "      --fill-color: #D2E3FC;\n",
              "      --hover-bg-color: #434B5C;\n",
              "      --hover-fill-color: #FFFFFF;\n",
              "      --disabled-bg-color: #3B4455;\n",
              "      --disabled-fill-color: #666;\n",
              "  }\n",
              "\n",
              "  .colab-df-quickchart {\n",
              "    background-color: var(--bg-color);\n",
              "    border: none;\n",
              "    border-radius: 50%;\n",
              "    cursor: pointer;\n",
              "    display: none;\n",
              "    fill: var(--fill-color);\n",
              "    height: 32px;\n",
              "    padding: 0;\n",
              "    width: 32px;\n",
              "  }\n",
              "\n",
              "  .colab-df-quickchart:hover {\n",
              "    background-color: var(--hover-bg-color);\n",
              "    box-shadow: 0 1px 2px rgba(60, 64, 67, 0.3), 0 1px 3px 1px rgba(60, 64, 67, 0.15);\n",
              "    fill: var(--button-hover-fill-color);\n",
              "  }\n",
              "\n",
              "  .colab-df-quickchart-complete:disabled,\n",
              "  .colab-df-quickchart-complete:disabled:hover {\n",
              "    background-color: var(--disabled-bg-color);\n",
              "    fill: var(--disabled-fill-color);\n",
              "    box-shadow: none;\n",
              "  }\n",
              "\n",
              "  .colab-df-spinner {\n",
              "    border: 2px solid var(--fill-color);\n",
              "    border-color: transparent;\n",
              "    border-bottom-color: var(--fill-color);\n",
              "    animation:\n",
              "      spin 1s steps(1) infinite;\n",
              "  }\n",
              "\n",
              "  @keyframes spin {\n",
              "    0% {\n",
              "      border-color: transparent;\n",
              "      border-bottom-color: var(--fill-color);\n",
              "      border-left-color: var(--fill-color);\n",
              "    }\n",
              "    20% {\n",
              "      border-color: transparent;\n",
              "      border-left-color: var(--fill-color);\n",
              "      border-top-color: var(--fill-color);\n",
              "    }\n",
              "    30% {\n",
              "      border-color: transparent;\n",
              "      border-left-color: var(--fill-color);\n",
              "      border-top-color: var(--fill-color);\n",
              "      border-right-color: var(--fill-color);\n",
              "    }\n",
              "    40% {\n",
              "      border-color: transparent;\n",
              "      border-right-color: var(--fill-color);\n",
              "      border-top-color: var(--fill-color);\n",
              "    }\n",
              "    60% {\n",
              "      border-color: transparent;\n",
              "      border-right-color: var(--fill-color);\n",
              "    }\n",
              "    80% {\n",
              "      border-color: transparent;\n",
              "      border-right-color: var(--fill-color);\n",
              "      border-bottom-color: var(--fill-color);\n",
              "    }\n",
              "    90% {\n",
              "      border-color: transparent;\n",
              "      border-bottom-color: var(--fill-color);\n",
              "    }\n",
              "  }\n",
              "</style>\n",
              "\n",
              "  <script>\n",
              "    async function quickchart(key) {\n",
              "      const quickchartButtonEl =\n",
              "        document.querySelector('#' + key + ' button');\n",
              "      quickchartButtonEl.disabled = true;  // To prevent multiple clicks.\n",
              "      quickchartButtonEl.classList.add('colab-df-spinner');\n",
              "      try {\n",
              "        const charts = await google.colab.kernel.invokeFunction(\n",
              "            'suggestCharts', [key], {});\n",
              "      } catch (error) {\n",
              "        console.error('Error during call to suggestCharts:', error);\n",
              "      }\n",
              "      quickchartButtonEl.classList.remove('colab-df-spinner');\n",
              "      quickchartButtonEl.classList.add('colab-df-quickchart-complete');\n",
              "    }\n",
              "    (() => {\n",
              "      let quickchartButtonEl =\n",
              "        document.querySelector('#df-bcaef949-ac3c-4637-be7c-4a08239a8996 button');\n",
              "      quickchartButtonEl.style.display =\n",
              "        google.colab.kernel.accessAllowed ? 'block' : 'none';\n",
              "    })();\n",
              "  </script>\n",
              "</div>\n",
              "\n",
              "    </div>\n",
              "  </div>\n"
            ],
            "application/vnd.google.colaboratory.intrinsic+json": {
              "type": "dataframe",
              "variable_name": "df",
              "summary": "{\n  \"name\": \"df\",\n  \"rows\": 1000,\n  \"fields\": [\n    {\n      \"column\": \"Title\",\n      \"properties\": {\n        \"dtype\": \"string\",\n        \"num_unique_values\": 808,\n        \"samples\": [\n          \"retail store sale associate part time albany ga ppg architectural coating\",\n          \"dock worker pt night new penn\",\n          \"day program community access mentor united cerebral palsy georgia\"\n        ],\n        \"semantic_type\": \"\",\n        \"description\": \"\"\n      }\n    },\n    {\n      \"column\": \"Job.Description\",\n      \"properties\": {\n        \"dtype\": \"string\",\n        \"num_unique_values\": 903,\n        \"samples\": [\n          \"ref id01300152965classificationloan servicingcompensationdoeour client prominent community bank chicagoland market looking respa specialist join team ideal respa specialist would 3 year recent experience servicing conventional fha va loan well versed respa regulation immediate consideration please email click email resum\",\n          \"registered nurse rn assisted living registered nurse rnassisted living responsible providing oversight direction health related service assessing establishing service plan resident assisted living overseeing medication management assisted living setting additional responsibility registered nurse rnassisted living include interviewing potential resident assessing resident compliance regulation providing clinical support regarding unusual resident staff event medication issue assuring physician order processed accurately teaching universal worker providing inservices health related area\",\n          \"ref id 03320132545classification secretaryadmin asstcompensation 1092 1265 per houra spring grove construction company need administrative assistant temporary basis covering medical leave administrative assistant duty include helping bid information working within adobe pdf file job duty administrative assistant would include answering phone light clerical duty help sorting paperwork making sure documentation project job working\"\n        ],\n        \"semantic_type\": \"\",\n        \"description\": \"\"\n      }\n    },\n    {\n      \"column\": \"preprocessed\",\n      \"properties\": {\n        \"dtype\": \"string\",\n        \"num_unique_values\": 922,\n        \"samples\": [\n          \"dock worker night new penn dock casual cdl required load unload trailer freight varies size weight hour work sunday midnight monday thursday\",\n          \"lead valet parking attendant philadelphia pa towne park towne park teammate delivering specialized hospitality service 650 location nationwide ranging boutique hotel sprawling luxury resort downtown healthcare campus local medical center teammate brightening day million guest first last interaction location teammate believe giving people like countless opportunity learn grow 25 year towne park continued deliver specialized hospitality service include valet parking management door bell concierge transportation greeter patient transport service goal enhancing service experience towne park unique culture includes collaborative social work environment foster high visibility career progression track record success growth resulted seven appearance list private company since consider joining towne park driven please visit apply today towne park equal opportunity employer eoe towne park offer competitive pay benefit unmatched flexibility whether looking job work around school obligation job offer stable hour schedule fit need simply put growth 90 current manager started career hourly job towne park national footprint wherever life may take chance towne park already towne park lead valet parking attendant orchestrates service experience hotel guest working alongside coworkers ensure site service standard met exceeded direction account manager lead valet parking attendant additional duty involving coordination administration well providing troubleshooting guidance manager lead valet parking attendant manager however may handle critical issue may required make judgment call expediency priority issue urgent report information manager provide fact matter seek instruction proceed main duty lead valet parking attendant include limited promoting teamwork philosophy leading example effective communication skill leading work group delivering high level guest service appointing fellow associate certain routine role assigning coworkers role direction account manager assisting account manager needed build work schedule making call behalf account manager notify fellow associate schedule change opening identifying collecting revenue vehicle completing accurate cash drop slip cash drop envelope reconciling revenue ticket end every shift completing shift report shift paperwork detail accuracy effectively performing duty associated role valet parking attendant knowledge skill ability must able speak read write standard english language must able effectively present information small group situation guest client employee must able perform basic math relation american money understand rate applicable time passed understand 24 hour military time system physical demand work environment physical demand described representative must met associate successfully perform essential function job reasonable accommodation may made enable individual disability perform essential function regularly required run stand walk sit use hand finger handle feel object tool control reach hand arm climb stair balance stoop kneel crouch crawl talk hear specific vision ability required job include close vision distance vision color vision peripheral vision depth perception ability adjust focus must able lift move 50 pound frequently 75 pound occasionally must able push pull 75 pound frequently 100 pound occasionally must able push pull wheelchair 100 350 pound frequently considerable distance working flexible schedule extended hour sometimes required keywords lead valet parking attendant hotel valet parking parking part time valet hospitality hospitality staffing foh front house service staff restaurant job hotel hourly job hospital driver transportation garage cash tip tip outdoors exercise healthcare woman student veteran casino flexible schedule benefit gratuity part time pt full time ft seasonal fitness fitness center retail customer service guest service attendant front desk work life balance hospital lead valet attendant hotel lead valet attendant entry level manager training career growth job training supervisor\",\n          \"nurse lpn rn lss home health care lss home health care exciting opportunity per deim rn lpn contribute mission creating better world serving people nbsp nbsp position responsible administering nursing service following plan care according state federal licensing standard nbsp position act advocate patient assume authority responsibility quality patient care delivered\"\n        ],\n        \"semantic_type\": \"\",\n        \"description\": \"\"\n      }\n    },\n    {\n      \"column\": \"new col\",\n      \"properties\": {\n        \"dtype\": \"string\",\n        \"num_unique_values\": 927,\n        \"samples\": [\n          \"junior recruiter position officeteam ref id 04530118072classification personnelhuman resourcescompensation 1480 2300 per houra trendy staffing company mclean area looking jr recruiter join organization recruiter responsible backing human resource department employee file maintaining creating job post negotiating presenting competitivesuccessful employment offer sourcing new talent please send resume click email resum\",\n          \"clinical nurse rn prn consulate health care nbsp nbsp purpose job position consulate health care clinical nurse rn primary purpose position provide direct nursing care resident supervise daytoday nursing activity performed nursing assistant supervision must accordance current federal state local standard guideline regulation govern facility may required director clinical service ensure highest degree quality care maintained time job function nbsp clinical nurse rn supervise nurse tech job description list duty job may asked supervisor manger perform duty evaluated part based upon performance task listed job description nbsp duty responsibility nbsp nbsp act capacity team leader modified primary care setting nbsp provide regular resident status update appropriate personnel nbsp supervise nurse techsclinical nurse amp ii participate evaluation conduct document thorough assessment residentrsquos medical status upon admission throughout residentrsquos course treatment assist implementation individualized treatment plan assigned resident maintain ongoing communication physician concerning resident care assist recruiting hiring nursing staff provide supervisioncounseling needed unit nursing staff assist completion annual performance appraisal unit personnel including competence checklist assist nursing personnel act compliance corporate policy procedure regulatory requirement ensure effective interaction patient family ensure compliance resident right policy work family staff needed resolve grievance actively participate quality improvement process facility schedule conduct document regular meeting direct report staff ensure effective communication attend participate departmentfacility meeting required participate evaluation nurse tech clinical nurse ii act compliance consulate regulatory professional standard guideline access continuing education opportunity appropriate discipline responsibility order maintain clinical competency adhere facility policy procedure participates facility quality improvement safety program participate andor provide inservice education session oversee fall program pressure sore program resident team\",\n          \"receptionist healthcare company n houston officeteam ref id 04340125168classification receptionistswitchboardcompensation 1300 1400 per houra healthcare company north houston need receptionist temporary basis possibility go temporarytofulltime position paying 1314hour based experience job duty include answering phone greeting visitor helping duty needed strong computer skill required word excel hour role monday tothursday 8am5pm friday 8am430pm interested position please apply today reference number 04340125168\"\n        ],\n        \"semantic_type\": \"\",\n        \"description\": \"\"\n      }\n    }\n  ]\n}"
            }
          },
          "metadata": {},
          "execution_count": 31
        }
      ]
    },
    {
      "cell_type": "code",
      "source": [
        "df = df.dropna(subset=['new col'])"
      ],
      "metadata": {
        "id": "qeWyDtHqeAxE"
      },
      "execution_count": 32,
      "outputs": []
    },
    {
      "cell_type": "code",
      "source": [
        "df['new col'] = df['new col'].fillna('')"
      ],
      "metadata": {
        "id": "s4pu2t0VeEgd"
      },
      "execution_count": 33,
      "outputs": []
    },
    {
      "cell_type": "code",
      "source": [
        "from sklearn.feature_extraction.text import TfidfVectorizer\n",
        "from sklearn.metrics.pairwise import cosine_similarity"
      ],
      "metadata": {
        "id": "MGTEaBpdLugy"
      },
      "execution_count": 34,
      "outputs": []
    },
    {
      "cell_type": "code",
      "source": [
        "tfif = TfidfVectorizer()\n",
        "matrix = tfif.fit_transform(df['new col'])\n",
        "similarity = cosine_similarity(matrix)"
      ],
      "metadata": {
        "id": "pLTqiG1WLuX5"
      },
      "execution_count": 35,
      "outputs": []
    },
    {
      "cell_type": "code",
      "source": [
        "similarity"
      ],
      "metadata": {
        "id": "DvelGmzONBia",
        "colab": {
          "base_uri": "https://localhost:8080/"
        },
        "outputId": "3c7cddfd-ea30-4825-9889-02c514a0be5f"
      },
      "execution_count": 36,
      "outputs": [
        {
          "output_type": "execute_result",
          "data": {
            "text/plain": [
              "array([[1.        , 0.03310368, 0.02186785, ..., 0.04454707, 0.0161199 ,\n",
              "        0.06603212],\n",
              "       [0.03310368, 1.        , 0.02742687, ..., 0.02471342, 0.00570374,\n",
              "        0.02078507],\n",
              "       [0.02186785, 0.02742687, 1.        , ..., 0.05441607, 0.01161572,\n",
              "        0.02783715],\n",
              "       ...,\n",
              "       [0.04454707, 0.02471342, 0.05441607, ..., 1.        , 0.04928507,\n",
              "        0.09340163],\n",
              "       [0.0161199 , 0.00570374, 0.01161572, ..., 0.04928507, 1.        ,\n",
              "        0.31613035],\n",
              "       [0.06603212, 0.02078507, 0.02783715, ..., 0.09340163, 0.31613035,\n",
              "        1.        ]])"
            ]
          },
          "metadata": {},
          "execution_count": 36
        }
      ]
    },
    {
      "cell_type": "code",
      "source": [
        "enumerate(similarity[0])"
      ],
      "metadata": {
        "id": "ai701xIWOSv_",
        "colab": {
          "base_uri": "https://localhost:8080/"
        },
        "outputId": "4c711a36-794e-45cf-e61f-2f2a134b40ba"
      },
      "execution_count": 37,
      "outputs": [
        {
          "output_type": "execute_result",
          "data": {
            "text/plain": [
              "<enumerate at 0x7b23a5d851c0>"
            ]
          },
          "metadata": {},
          "execution_count": 37
        }
      ]
    },
    {
      "cell_type": "code",
      "source": [
        "print(similarity.shape)\n"
      ],
      "metadata": {
        "colab": {
          "base_uri": "https://localhost:8080/"
        },
        "id": "B6X9JbpE0Uqx",
        "outputId": "27667c1a-e4d9-4b9a-eac2-ea959185cfc8"
      },
      "execution_count": 38,
      "outputs": [
        {
          "output_type": "stream",
          "name": "stdout",
          "text": [
            "(1000, 1000)\n"
          ]
        }
      ]
    },
    {
      "cell_type": "code",
      "source": [
        "def check_title_exists(df, title):  # Define a function to check if the title exists\n",
        "  \"\"\"\n",
        "  Checks if a given job title exists in the dataframe.\n",
        "\n",
        "  Args:\n",
        "    df: The dataframe containing job data.\n",
        "    title: The job title to search for.\n",
        "\n",
        "  Raises:\n",
        "    HTTPException: If the title is not found in the dataframe.\n",
        "  \"\"\"\n",
        "  if title.lower().strip() not in df['Title'].str.lower().str.strip().values:\n",
        "    raise HTTPException(status_code=404, detail=f\"Job title '{title}' not found in the dataset.\")\n",
        "\n",
        "# Example usage:\n",
        "# check_title_exists(df, \"Data Scientist\") # replace \"Data Scientist\" with the actual title"
      ],
      "metadata": {
        "id": "klU1oSSk0iS0"
      },
      "execution_count": 39,
      "outputs": []
    },
    {
      "cell_type": "code",
      "source": [
        "df.columns = df.columns.str.strip()"
      ],
      "metadata": {
        "id": "P9CeXP99byEk"
      },
      "execution_count": 40,
      "outputs": []
    },
    {
      "cell_type": "code",
      "source": [
        "sorted(list(enumerate(similarity[0])), key=lambda x: x[1], reverse=True)[1:20]"
      ],
      "metadata": {
        "id": "efoNJKDVhJK3",
        "colab": {
          "base_uri": "https://localhost:8080/"
        },
        "outputId": "117e01ae-c4cc-4610-8608-abd592a824cb"
      },
      "execution_count": 41,
      "outputs": [
        {
          "output_type": "execute_result",
          "data": {
            "text/plain": [
              "[(276, 0.9943677649503181),\n",
              " (730, 0.5245174128882183),\n",
              " (81, 0.4879151506452411),\n",
              " (917, 0.4879151506452411),\n",
              " (252, 0.27238095927878814),\n",
              " (128, 0.26082552200720643),\n",
              " (360, 0.2336221040356154),\n",
              " (629, 0.1768400802587289),\n",
              " (825, 0.1685179470521009),\n",
              " (114, 0.13477030746564572),\n",
              " (395, 0.13357456547008997),\n",
              " (245, 0.13270422851967464),\n",
              " (59, 0.1319944373342821),\n",
              " (298, 0.13098309515459147),\n",
              " (38, 0.12916859595524677),\n",
              " (254, 0.12505842312856866),\n",
              " (940, 0.12312174518080753),\n",
              " (556, 0.12211316619416061),\n",
              " (528, 0.12050120652046296)]"
            ]
          },
          "metadata": {},
          "execution_count": 41
        }
      ]
    },
    {
      "cell_type": "markdown",
      "source": [
        "##Recommendation"
      ],
      "metadata": {
        "id": "ffJ_PBULn1Pb"
      }
    },
    {
      "cell_type": "code",
      "source": [
        "!pip install fuzzywuzzy\n",
        "!pip install python-Levenshtein\n",
        "from fuzzywuzzy import process"
      ],
      "metadata": {
        "colab": {
          "base_uri": "https://localhost:8080/"
        },
        "id": "jvSstgRiQerP",
        "outputId": "250ac7f9-0723-4d3a-813f-4b5662a46f6e"
      },
      "execution_count": 42,
      "outputs": [
        {
          "output_type": "stream",
          "name": "stdout",
          "text": [
            "Collecting fuzzywuzzy\n",
            "  Downloading fuzzywuzzy-0.18.0-py2.py3-none-any.whl.metadata (4.9 kB)\n",
            "Downloading fuzzywuzzy-0.18.0-py2.py3-none-any.whl (18 kB)\n",
            "Installing collected packages: fuzzywuzzy\n",
            "Successfully installed fuzzywuzzy-0.18.0\n",
            "Collecting python-Levenshtein\n",
            "  Downloading python_Levenshtein-0.26.1-py3-none-any.whl.metadata (3.7 kB)\n",
            "Collecting Levenshtein==0.26.1 (from python-Levenshtein)\n",
            "  Downloading levenshtein-0.26.1-cp310-cp310-manylinux_2_17_x86_64.manylinux2014_x86_64.whl.metadata (3.2 kB)\n",
            "Collecting rapidfuzz<4.0.0,>=3.9.0 (from Levenshtein==0.26.1->python-Levenshtein)\n",
            "  Downloading rapidfuzz-3.10.1-cp310-cp310-manylinux_2_17_x86_64.manylinux2014_x86_64.whl.metadata (11 kB)\n",
            "Downloading python_Levenshtein-0.26.1-py3-none-any.whl (9.4 kB)\n",
            "Downloading levenshtein-0.26.1-cp310-cp310-manylinux_2_17_x86_64.manylinux2014_x86_64.whl (162 kB)\n",
            "\u001b[2K   \u001b[90m━━━━━━━━━━━━━━━━━━━━━━━━━━━━━━━━━━━━━━━━\u001b[0m \u001b[32m162.6/162.6 kB\u001b[0m \u001b[31m2.9 MB/s\u001b[0m eta \u001b[36m0:00:00\u001b[0m\n",
            "\u001b[?25hDownloading rapidfuzz-3.10.1-cp310-cp310-manylinux_2_17_x86_64.manylinux2014_x86_64.whl (3.1 MB)\n",
            "\u001b[2K   \u001b[90m━━━━━━━━━━━━━━━━━━━━━━━━━━━━━━━━━━━━━━━━\u001b[0m \u001b[32m3.1/3.1 MB\u001b[0m \u001b[31m35.0 MB/s\u001b[0m eta \u001b[36m0:00:00\u001b[0m\n",
            "\u001b[?25hInstalling collected packages: rapidfuzz, Levenshtein, python-Levenshtein\n",
            "Successfully installed Levenshtein-0.26.1 python-Levenshtein-0.26.1 rapidfuzz-3.10.1\n"
          ]
        }
      ]
    },
    {
      "cell_type": "code",
      "source": [
        "def recommendation(query, threshold=0.8):\n",
        "    query_tokens = query.split()\n",
        "    jobs = []\n",
        "\n",
        "    for title in df['Title']:\n",
        "        title_tokens = title.split()\n",
        "        common_words = set(query_tokens).intersection(title_tokens)\n",
        "        similarity_score = len(common_words) / len(query_tokens)\n",
        "\n",
        "        if similarity_score >= threshold:\n",
        "            jobs.append(title)\n",
        "\n",
        "    return jobs"
      ],
      "metadata": {
        "id": "E9yTJ5oKQT8g"
      },
      "execution_count": 52,
      "outputs": []
    },
    {
      "cell_type": "code",
      "source": [
        "df['Title']"
      ],
      "metadata": {
        "id": "0GmFvIrF4hpx",
        "colab": {
          "base_uri": "https://localhost:8080/",
          "height": 458
        },
        "outputId": "9e821633-6f35-49ac-aade-888830ff1b8e"
      },
      "execution_count": 53,
      "outputs": [
        {
          "output_type": "execute_result",
          "data": {
            "text/plain": [
              "0                       site director knowledge universe\n",
              "1                    administrative assistant officeteam\n",
              "2                     account manager chi payment system\n",
              "3      outside wholesale sale rep parttime river fron...\n",
              "4      customer service rep help people hearing loss ...\n",
              "                             ...                        \n",
              "995    sale representative sale associate entry level...\n",
              "996                         staff accountant accountemps\n",
              "997        unarmed security officer u security associate\n",
              "998    line cook crowne plaza independently owned ope...\n",
              "999    kitchen manager job detail artesian hotel casi...\n",
              "Name: Title, Length: 1000, dtype: object"
            ],
            "text/html": [
              "<div>\n",
              "<style scoped>\n",
              "    .dataframe tbody tr th:only-of-type {\n",
              "        vertical-align: middle;\n",
              "    }\n",
              "\n",
              "    .dataframe tbody tr th {\n",
              "        vertical-align: top;\n",
              "    }\n",
              "\n",
              "    .dataframe thead th {\n",
              "        text-align: right;\n",
              "    }\n",
              "</style>\n",
              "<table border=\"1\" class=\"dataframe\">\n",
              "  <thead>\n",
              "    <tr style=\"text-align: right;\">\n",
              "      <th></th>\n",
              "      <th>Title</th>\n",
              "    </tr>\n",
              "  </thead>\n",
              "  <tbody>\n",
              "    <tr>\n",
              "      <th>0</th>\n",
              "      <td>site director knowledge universe</td>\n",
              "    </tr>\n",
              "    <tr>\n",
              "      <th>1</th>\n",
              "      <td>administrative assistant officeteam</td>\n",
              "    </tr>\n",
              "    <tr>\n",
              "      <th>2</th>\n",
              "      <td>account manager chi payment system</td>\n",
              "    </tr>\n",
              "    <tr>\n",
              "      <th>3</th>\n",
              "      <td>outside wholesale sale rep parttime river fron...</td>\n",
              "    </tr>\n",
              "    <tr>\n",
              "      <th>4</th>\n",
              "      <td>customer service rep help people hearing loss ...</td>\n",
              "    </tr>\n",
              "    <tr>\n",
              "      <th>...</th>\n",
              "      <td>...</td>\n",
              "    </tr>\n",
              "    <tr>\n",
              "      <th>995</th>\n",
              "      <td>sale representative sale associate entry level...</td>\n",
              "    </tr>\n",
              "    <tr>\n",
              "      <th>996</th>\n",
              "      <td>staff accountant accountemps</td>\n",
              "    </tr>\n",
              "    <tr>\n",
              "      <th>997</th>\n",
              "      <td>unarmed security officer u security associate</td>\n",
              "    </tr>\n",
              "    <tr>\n",
              "      <th>998</th>\n",
              "      <td>line cook crowne plaza independently owned ope...</td>\n",
              "    </tr>\n",
              "    <tr>\n",
              "      <th>999</th>\n",
              "      <td>kitchen manager job detail artesian hotel casi...</td>\n",
              "    </tr>\n",
              "  </tbody>\n",
              "</table>\n",
              "<p>1000 rows × 1 columns</p>\n",
              "</div><br><label><b>dtype:</b> object</label>"
            ]
          },
          "metadata": {},
          "execution_count": 53
        }
      ]
    },
    {
      "cell_type": "code",
      "source": [
        "recommendation('universe')"
      ],
      "metadata": {
        "colab": {
          "base_uri": "https://localhost:8080/"
        },
        "id": "s_izuTLXAQqI",
        "outputId": "7c52310e-7102-4107-b74d-077a7c70944a"
      },
      "execution_count": 54,
      "outputs": [
        {
          "output_type": "execute_result",
          "data": {
            "text/plain": [
              "['site director knowledge universe',\n",
              " 'assistant teacher knowledge universe',\n",
              " 'cook knowledge universe',\n",
              " 'site director knowledge universe education llc',\n",
              " 'teacher knowledge universe',\n",
              " 'assistant teacher knowledge universe']"
            ]
          },
          "metadata": {},
          "execution_count": 54
        }
      ]
    },
    {
      "cell_type": "code",
      "source": [
        "import pickle\n",
        "\n",
        "pickle.dump(df, open('df.pkl','wb'))\n",
        "pickle.dump(similarity, open('similarity.pkl','wb'))\n",
        "pickle.dump(df,open('model.pkl', 'wb'))\n",
        "pickle.dump(data, open('data.pkl', 'wb'))\n",
        "\n",
        "\n",
        "from google.colab import files\n",
        "\n",
        "files.download('df.pkl')\n",
        "files.download('similarity.pkl')\n",
        "files.download('model.pkl')\n",
        "files.download('data.pkl')"
      ],
      "metadata": {
        "colab": {
          "base_uri": "https://localhost:8080/",
          "height": 17
        },
        "id": "1supmji8RNJn",
        "outputId": "e32faa72-c734-4302-e13b-f0c5565fb1ec"
      },
      "execution_count": 55,
      "outputs": [
        {
          "output_type": "display_data",
          "data": {
            "text/plain": [
              "<IPython.core.display.Javascript object>"
            ],
            "application/javascript": [
              "\n",
              "    async function download(id, filename, size) {\n",
              "      if (!google.colab.kernel.accessAllowed) {\n",
              "        return;\n",
              "      }\n",
              "      const div = document.createElement('div');\n",
              "      const label = document.createElement('label');\n",
              "      label.textContent = `Downloading \"${filename}\": `;\n",
              "      div.appendChild(label);\n",
              "      const progress = document.createElement('progress');\n",
              "      progress.max = size;\n",
              "      div.appendChild(progress);\n",
              "      document.body.appendChild(div);\n",
              "\n",
              "      const buffers = [];\n",
              "      let downloaded = 0;\n",
              "\n",
              "      const channel = await google.colab.kernel.comms.open(id);\n",
              "      // Send a message to notify the kernel that we're ready.\n",
              "      channel.send({})\n",
              "\n",
              "      for await (const message of channel.messages) {\n",
              "        // Send a message to notify the kernel that we're ready.\n",
              "        channel.send({})\n",
              "        if (message.buffers) {\n",
              "          for (const buffer of message.buffers) {\n",
              "            buffers.push(buffer);\n",
              "            downloaded += buffer.byteLength;\n",
              "            progress.value = downloaded;\n",
              "          }\n",
              "        }\n",
              "      }\n",
              "      const blob = new Blob(buffers, {type: 'application/binary'});\n",
              "      const a = document.createElement('a');\n",
              "      a.href = window.URL.createObjectURL(blob);\n",
              "      a.download = filename;\n",
              "      div.appendChild(a);\n",
              "      a.click();\n",
              "      div.remove();\n",
              "    }\n",
              "  "
            ]
          },
          "metadata": {}
        },
        {
          "output_type": "display_data",
          "data": {
            "text/plain": [
              "<IPython.core.display.Javascript object>"
            ],
            "application/javascript": [
              "download(\"download_8096a815-8ff7-4557-b1f2-374609b9990b\", \"df.pkl\", 3652733)"
            ]
          },
          "metadata": {}
        },
        {
          "output_type": "display_data",
          "data": {
            "text/plain": [
              "<IPython.core.display.Javascript object>"
            ],
            "application/javascript": [
              "\n",
              "    async function download(id, filename, size) {\n",
              "      if (!google.colab.kernel.accessAllowed) {\n",
              "        return;\n",
              "      }\n",
              "      const div = document.createElement('div');\n",
              "      const label = document.createElement('label');\n",
              "      label.textContent = `Downloading \"${filename}\": `;\n",
              "      div.appendChild(label);\n",
              "      const progress = document.createElement('progress');\n",
              "      progress.max = size;\n",
              "      div.appendChild(progress);\n",
              "      document.body.appendChild(div);\n",
              "\n",
              "      const buffers = [];\n",
              "      let downloaded = 0;\n",
              "\n",
              "      const channel = await google.colab.kernel.comms.open(id);\n",
              "      // Send a message to notify the kernel that we're ready.\n",
              "      channel.send({})\n",
              "\n",
              "      for await (const message of channel.messages) {\n",
              "        // Send a message to notify the kernel that we're ready.\n",
              "        channel.send({})\n",
              "        if (message.buffers) {\n",
              "          for (const buffer of message.buffers) {\n",
              "            buffers.push(buffer);\n",
              "            downloaded += buffer.byteLength;\n",
              "            progress.value = downloaded;\n",
              "          }\n",
              "        }\n",
              "      }\n",
              "      const blob = new Blob(buffers, {type: 'application/binary'});\n",
              "      const a = document.createElement('a');\n",
              "      a.href = window.URL.createObjectURL(blob);\n",
              "      a.download = filename;\n",
              "      div.appendChild(a);\n",
              "      a.click();\n",
              "      div.remove();\n",
              "    }\n",
              "  "
            ]
          },
          "metadata": {}
        },
        {
          "output_type": "display_data",
          "data": {
            "text/plain": [
              "<IPython.core.display.Javascript object>"
            ],
            "application/javascript": [
              "download(\"download_dbad08a9-93f5-4caf-8cf6-1d24b61536fb\", \"similarity.pkl\", 8000163)"
            ]
          },
          "metadata": {}
        },
        {
          "output_type": "display_data",
          "data": {
            "text/plain": [
              "<IPython.core.display.Javascript object>"
            ],
            "application/javascript": [
              "\n",
              "    async function download(id, filename, size) {\n",
              "      if (!google.colab.kernel.accessAllowed) {\n",
              "        return;\n",
              "      }\n",
              "      const div = document.createElement('div');\n",
              "      const label = document.createElement('label');\n",
              "      label.textContent = `Downloading \"${filename}\": `;\n",
              "      div.appendChild(label);\n",
              "      const progress = document.createElement('progress');\n",
              "      progress.max = size;\n",
              "      div.appendChild(progress);\n",
              "      document.body.appendChild(div);\n",
              "\n",
              "      const buffers = [];\n",
              "      let downloaded = 0;\n",
              "\n",
              "      const channel = await google.colab.kernel.comms.open(id);\n",
              "      // Send a message to notify the kernel that we're ready.\n",
              "      channel.send({})\n",
              "\n",
              "      for await (const message of channel.messages) {\n",
              "        // Send a message to notify the kernel that we're ready.\n",
              "        channel.send({})\n",
              "        if (message.buffers) {\n",
              "          for (const buffer of message.buffers) {\n",
              "            buffers.push(buffer);\n",
              "            downloaded += buffer.byteLength;\n",
              "            progress.value = downloaded;\n",
              "          }\n",
              "        }\n",
              "      }\n",
              "      const blob = new Blob(buffers, {type: 'application/binary'});\n",
              "      const a = document.createElement('a');\n",
              "      a.href = window.URL.createObjectURL(blob);\n",
              "      a.download = filename;\n",
              "      div.appendChild(a);\n",
              "      a.click();\n",
              "      div.remove();\n",
              "    }\n",
              "  "
            ]
          },
          "metadata": {}
        },
        {
          "output_type": "display_data",
          "data": {
            "text/plain": [
              "<IPython.core.display.Javascript object>"
            ],
            "application/javascript": [
              "download(\"download_0da939df-1729-467a-9fb0-2d7322b3ae3c\", \"model.pkl\", 3652733)"
            ]
          },
          "metadata": {}
        },
        {
          "output_type": "display_data",
          "data": {
            "text/plain": [
              "<IPython.core.display.Javascript object>"
            ],
            "application/javascript": [
              "\n",
              "    async function download(id, filename, size) {\n",
              "      if (!google.colab.kernel.accessAllowed) {\n",
              "        return;\n",
              "      }\n",
              "      const div = document.createElement('div');\n",
              "      const label = document.createElement('label');\n",
              "      label.textContent = `Downloading \"${filename}\": `;\n",
              "      div.appendChild(label);\n",
              "      const progress = document.createElement('progress');\n",
              "      progress.max = size;\n",
              "      div.appendChild(progress);\n",
              "      document.body.appendChild(div);\n",
              "\n",
              "      const buffers = [];\n",
              "      let downloaded = 0;\n",
              "\n",
              "      const channel = await google.colab.kernel.comms.open(id);\n",
              "      // Send a message to notify the kernel that we're ready.\n",
              "      channel.send({})\n",
              "\n",
              "      for await (const message of channel.messages) {\n",
              "        // Send a message to notify the kernel that we're ready.\n",
              "        channel.send({})\n",
              "        if (message.buffers) {\n",
              "          for (const buffer of message.buffers) {\n",
              "            buffers.push(buffer);\n",
              "            downloaded += buffer.byteLength;\n",
              "            progress.value = downloaded;\n",
              "          }\n",
              "        }\n",
              "      }\n",
              "      const blob = new Blob(buffers, {type: 'application/binary'});\n",
              "      const a = document.createElement('a');\n",
              "      a.href = window.URL.createObjectURL(blob);\n",
              "      a.download = filename;\n",
              "      div.appendChild(a);\n",
              "      a.click();\n",
              "      div.remove();\n",
              "    }\n",
              "  "
            ]
          },
          "metadata": {}
        },
        {
          "output_type": "display_data",
          "data": {
            "text/plain": [
              "<IPython.core.display.Javascript object>"
            ],
            "application/javascript": [
              "download(\"download_a7c1f441-ea0e-419d-9ad1-0e34f0daac03\", \"data.pkl\", 107180503)"
            ]
          },
          "metadata": {}
        }
      ]
    },
    {
      "cell_type": "markdown",
      "source": [
        "##Api"
      ],
      "metadata": {
        "id": "_9FW7aYKAByj"
      }
    },
    {
      "cell_type": "markdown",
      "source": [],
      "metadata": {
        "id": "tuLiS_hCYY7k"
      }
    },
    {
      "cell_type": "code",
      "source": [
        "# prompt: create me api to connect to flutter\n",
        "\n",
        "from flask import Flask, request, jsonify\n",
        "import pickle\n",
        "from sklearn.metrics.pairwise import cosine_similarity\n",
        "import pandas as pd\n",
        "\n",
        "app = Flask(__name__)\n",
        "\n",
        "# Load the saved model and data\n",
        "df = pickle.load(open('df.pkl', 'rb'))\n",
        "similarity = pickle.load(open('similarity.pkl', 'rb'))\n",
        "\n",
        "@app.route('/recommend', methods=['GET'])\n",
        "def recommend_jobs():\n",
        "    title = request.args.get('title')\n",
        "\n",
        "    if not title:\n",
        "        return jsonify({'error': 'Title parameter is required'}), 400\n",
        "\n",
        "    try:\n",
        "        # Find the index of the job title\n",
        "        index = df[df['Title'] == title].index[0]\n",
        "\n",
        "        # Calculate cosine similarity\n",
        "        distances = sorted(list(enumerate(similarity[index])), reverse=True, key=lambda x: x[1])\n",
        "\n",
        "        # Get recommendations (excluding the input job title)\n",
        "        recommended_job_indices = [i[0] for i in distances[1:6]] # Top 5 recommendations\n",
        "        recommended_jobs = df['Title'].iloc[recommended_job_indices].tolist()\n",
        "\n",
        "        return jsonify({'recommendations': recommended_jobs})\n",
        "\n",
        "    except IndexError:\n",
        "        return jsonify({'error': 'Job title not found in the dataset'}), 404\n",
        "\n",
        "\n",
        "if __name__ == '__main__':\n",
        "    app.run(debug=True)"
      ],
      "metadata": {
        "id": "uMBOeG5Ybmc_"
      },
      "execution_count": null,
      "outputs": []
    },
    {
      "cell_type": "code",
      "source": [
        "# prompt: i not not use flask rather using fast api give me code according\n",
        "\n",
        "!pip install fastapi uvicorn\n",
        "\n",
        "from fastapi import FastAPI, HTTPException\n",
        "from fastapi.responses import JSONResponse\n",
        "import pickle\n",
        "import pandas as pd\n",
        "from sklearn.metrics.pairwise import cosine_similarity\n",
        "from sklearn.feature_extraction.text import TfidfVectorizer\n",
        "from google.colab import files\n",
        "\n",
        "\n",
        "app = FastAPI()\n",
        "\n",
        "# Load the saved model and data\n",
        "try:\n",
        "    with open('model.pkl', 'rb') as f:\n",
        "        df = pickle.load(f)\n",
        "    with open('similarity.pkl', 'rb') as f:\n",
        "        similarity = pickle.load(f)\n",
        "except FileNotFoundError:\n",
        "    print(\"Error: model.pkl or similarity.pkl not found. Please upload them.\")\n",
        "    # You might want to handle this more gracefully in a production environment\n",
        "    exit(1)\n",
        "\n",
        "\n",
        "def recommendation(title):\n",
        "    # Check if the title exists in the DataFrame\n",
        "    if not any(title.lower().strip() == existing_title.lower().strip() for existing_title in df['Title']):\n",
        "        return JSONResponse(content={'error': f'Job title \"{title}\" not found in the dataset.'}, status_code=404)\n",
        "\n",
        "    try:\n",
        "        indx = df[df['Title'] == title].index[0]\n",
        "        indx = df.index.get_loc(indx)\n",
        "        distances = sorted(list(enumerate(similarity[indx])), key=lambda x: x[1], reverse=True)[1:20]\n",
        "\n",
        "        jobs = []\n",
        "        for i in distances:\n",
        "            jobs.append(df.iloc[i[0]].Title)\n",
        "        return JSONResponse(content={'recommendations': jobs})\n",
        "\n",
        "    except IndexError:\n",
        "        return JSONResponse(content={'error': f'Job title \"{title}\" not found or no recommendations available.'}, status_code=404)\n",
        "\n",
        "\n",
        "@app.get(\"/recommend\")\n",
        "async def recommend_jobs(title: str):\n",
        "    if not title:\n",
        "        raise HTTPException(status_code=400, detail=\"Missing 'title' parameter\")\n",
        "    return recommendation(title)\n",
        "\n",
        "\n",
        "# Run the server (requires uvicorn)\n",
        "# You'll need to install uvicorn: pip install uvicorn\n",
        "# Then run: uvicorn main:app --reload (replace 'main' with your file name if different)\n",
        "# Access the API via: http://127.0.0.1:8000/docs\n",
        "# or: http://127.0.0.1:8000/redoc\n",
        "\n",
        "import uvicorn\n",
        "\n",
        "if __name__ == \"__main__\":\n",
        "    uvicorn.run(app, host=\"0.0.0.0\", port=8000)"
      ],
      "metadata": {
        "id": "hLCodIQr3jE_"
      },
      "execution_count": null,
      "outputs": []
    },
    {
      "cell_type": "markdown",
      "source": [],
      "metadata": {
        "id": "KKn3eEMv4AWS"
      }
    },
    {
      "cell_type": "code",
      "source": [],
      "metadata": {
        "id": "h6oDm7OXOQNw"
      },
      "execution_count": null,
      "outputs": []
    }
  ]
}